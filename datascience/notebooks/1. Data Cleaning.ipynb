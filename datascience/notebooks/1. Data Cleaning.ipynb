{
 "cells": [
  {
   "cell_type": "code",
   "execution_count": 1,
   "id": "f5e1cbc4",
   "metadata": {},
   "outputs": [],
   "source": [
    "import numpy as np\n",
    "import pandas as pd\n",
    "import matplotlib.pyplot as plt\n",
    "from fastai.text import *\n",
    "from pprint import pprint"
   ]
  },
  {
   "cell_type": "code",
   "execution_count": 2,
   "id": "fb249cc6",
   "metadata": {},
   "outputs": [],
   "source": [
    "df = pd.read_csv('/media/winstonfan/Workspace/MyDoc/Interviews/DigitalVictoria/code/COVID-Q/final_master_dataset.csv')"
   ]
  },
  {
   "cell_type": "code",
   "execution_count": 3,
   "id": "d091564c",
   "metadata": {},
   "outputs": [
    {
     "data": {
      "text/plain": [
       "Category    366\n",
       "Question      1\n",
       "Answers     763\n",
       "dtype: int64"
      ]
     },
     "execution_count": 3,
     "metadata": {},
     "output_type": "execute_result"
    }
   ],
   "source": [
    "null_columns=df.columns[df.isnull().any()]\n",
    "df[null_columns].isnull().sum()"
   ]
  },
  {
   "cell_type": "markdown",
   "id": "71e56bce",
   "metadata": {},
   "source": [
    "## 1. Construct the word dataset for language model"
   ]
  },
  {
   "cell_type": "code",
   "execution_count": 4,
   "id": "9ad2881b",
   "metadata": {},
   "outputs": [],
   "source": [
    "df_word = df[['Question']]"
   ]
  },
  {
   "cell_type": "code",
   "execution_count": 5,
   "id": "f6be7878",
   "metadata": {
    "scrolled": true
   },
   "outputs": [
    {
     "data": {
      "text/plain": [
       "Question    1\n",
       "dtype: int64"
      ]
     },
     "execution_count": 5,
     "metadata": {},
     "output_type": "execute_result"
    }
   ],
   "source": [
    "# Check None records\n",
    "null_columns=df_word.columns[df_word.isnull().any()]\n",
    "df_word[null_columns].isnull().sum()"
   ]
  },
  {
   "cell_type": "code",
   "execution_count": 6,
   "id": "744844da",
   "metadata": {},
   "outputs": [
    {
     "data": {
      "text/html": [
       "<div>\n",
       "<style scoped>\n",
       "    .dataframe tbody tr th:only-of-type {\n",
       "        vertical-align: middle;\n",
       "    }\n",
       "\n",
       "    .dataframe tbody tr th {\n",
       "        vertical-align: top;\n",
       "    }\n",
       "\n",
       "    .dataframe thead th {\n",
       "        text-align: right;\n",
       "    }\n",
       "</style>\n",
       "<table border=\"1\" class=\"dataframe\">\n",
       "  <thead>\n",
       "    <tr style=\"text-align: right;\">\n",
       "      <th></th>\n",
       "      <th>text</th>\n",
       "    </tr>\n",
       "  </thead>\n",
       "  <tbody>\n",
       "    <tr>\n",
       "      <th>1606</th>\n",
       "      <td>why are churches closed due to covid</td>\n",
       "    </tr>\n",
       "    <tr>\n",
       "      <th>1607</th>\n",
       "      <td>is it safe to have play rehearsals during covid</td>\n",
       "    </tr>\n",
       "    <tr>\n",
       "      <th>1608</th>\n",
       "      <td>where can i buy toilet paper considering most ...</td>\n",
       "    </tr>\n",
       "    <tr>\n",
       "      <th>1609</th>\n",
       "      <td>will i likely catch the covid virus in america...</td>\n",
       "    </tr>\n",
       "    <tr>\n",
       "      <th>1610</th>\n",
       "      <td>what are your best tips for entertaining young...</td>\n",
       "    </tr>\n",
       "  </tbody>\n",
       "</table>\n",
       "</div>"
      ],
      "text/plain": [
       "                                                   text\n",
       "1606               why are churches closed due to covid\n",
       "1607    is it safe to have play rehearsals during covid\n",
       "1608  where can i buy toilet paper considering most ...\n",
       "1609  will i likely catch the covid virus in america...\n",
       "1610  what are your best tips for entertaining young..."
      ]
     },
     "execution_count": 6,
     "metadata": {},
     "output_type": "execute_result"
    }
   ],
   "source": [
    "df_word = df_word.dropna(subset=['Question'])\n",
    "df_word.columns=['text']\n",
    "df_word.tail()"
   ]
  },
  {
   "cell_type": "code",
   "execution_count": 9,
   "id": "11831e7a",
   "metadata": {},
   "outputs": [],
   "source": [
    "# save the data set for use later\n",
    "# word_df.to_csv('word_ds.csv', index=False)"
   ]
  },
  {
   "cell_type": "markdown",
   "id": "98bd421c",
   "metadata": {},
   "source": [
    "### 2. Construct the dataset for text classification model"
   ]
  },
  {
   "cell_type": "code",
   "execution_count": 8,
   "id": "b3f98cfa",
   "metadata": {},
   "outputs": [
    {
     "data": {
      "text/html": [
       "<div>\n",
       "<style scoped>\n",
       "    .dataframe tbody tr th:only-of-type {\n",
       "        vertical-align: middle;\n",
       "    }\n",
       "\n",
       "    .dataframe tbody tr th {\n",
       "        vertical-align: top;\n",
       "    }\n",
       "\n",
       "    .dataframe thead th {\n",
       "        text-align: right;\n",
       "    }\n",
       "</style>\n",
       "<table border=\"1\" class=\"dataframe\">\n",
       "  <thead>\n",
       "    <tr style=\"text-align: right;\">\n",
       "      <th></th>\n",
       "      <th>label</th>\n",
       "      <th>text</th>\n",
       "    </tr>\n",
       "  </thead>\n",
       "  <tbody>\n",
       "    <tr>\n",
       "      <th>1240</th>\n",
       "      <td>Reporting - Media Coverup</td>\n",
       "      <td>is the media hiding what is really going on in...</td>\n",
       "    </tr>\n",
       "    <tr>\n",
       "      <th>1241</th>\n",
       "      <td>Treatment - Quinine</td>\n",
       "      <td>can quinine be taken to fight this covid virus</td>\n",
       "    </tr>\n",
       "    <tr>\n",
       "      <th>1242</th>\n",
       "      <td>Treatment - Quinine</td>\n",
       "      <td>why is quinine effective in curing covid</td>\n",
       "    </tr>\n",
       "    <tr>\n",
       "      <th>1243</th>\n",
       "      <td>Other - Food Shortages</td>\n",
       "      <td>could we run out of things to eat</td>\n",
       "    </tr>\n",
       "    <tr>\n",
       "      <th>1244</th>\n",
       "      <td>Other - Food Shortages</td>\n",
       "      <td>do i need to stock up on food</td>\n",
       "    </tr>\n",
       "  </tbody>\n",
       "</table>\n",
       "</div>"
      ],
      "text/plain": [
       "                          label  \\\n",
       "1240  Reporting - Media Coverup   \n",
       "1241        Treatment - Quinine   \n",
       "1242        Treatment - Quinine   \n",
       "1243     Other - Food Shortages   \n",
       "1244     Other - Food Shortages   \n",
       "\n",
       "                                                   text  \n",
       "1240  is the media hiding what is really going on in...  \n",
       "1241     can quinine be taken to fight this covid virus  \n",
       "1242           why is quinine effective in curing covid  \n",
       "1243                  could we run out of things to eat  \n",
       "1244                      do i need to stock up on food  "
      ]
     },
     "execution_count": 8,
     "metadata": {},
     "output_type": "execute_result"
    }
   ],
   "source": [
    "df_questions = df[['Category', 'Question']]\n",
    "\n",
    "df_questions = df_questions.dropna(subset=['Category', 'Question'])\n",
    "\n",
    "df_questions.columns = ['label','text']\n",
    "df_questions.tail()"
   ]
  },
  {
   "cell_type": "code",
   "execution_count": 12,
   "id": "e064fd3d",
   "metadata": {},
   "outputs": [
    {
     "data": {
      "text/plain": [
       "(1244, 2)"
      ]
     },
     "execution_count": 12,
     "metadata": {},
     "output_type": "execute_result"
    }
   ],
   "source": [
    "df_questions.shape"
   ]
  },
  {
   "cell_type": "code",
   "execution_count": 13,
   "id": "bc1b990b",
   "metadata": {},
   "outputs": [
    {
     "data": {
      "text/plain": [
       "(208,)"
      ]
     },
     "execution_count": 13,
     "metadata": {},
     "output_type": "execute_result"
    }
   ],
   "source": [
    "categories = df_questions.label.unique()\n",
    "categories.shape"
   ]
  },
  {
   "cell_type": "code",
   "execution_count": 22,
   "id": "31bad25f",
   "metadata": {
    "scrolled": false
   },
   "outputs": [
    {
     "data": {
      "text/html": [
       "<div>\n",
       "<style scoped>\n",
       "    .dataframe tbody tr th:only-of-type {\n",
       "        vertical-align: middle;\n",
       "    }\n",
       "\n",
       "    .dataframe tbody tr th {\n",
       "        vertical-align: top;\n",
       "    }\n",
       "\n",
       "    .dataframe thead th {\n",
       "        text-align: right;\n",
       "    }\n",
       "</style>\n",
       "<table border=\"1\" class=\"dataframe\">\n",
       "  <thead>\n",
       "    <tr style=\"text-align: right;\">\n",
       "      <th></th>\n",
       "      <th>label</th>\n",
       "      <th>cid</th>\n",
       "    </tr>\n",
       "  </thead>\n",
       "  <tbody>\n",
       "    <tr>\n",
       "      <th>0</th>\n",
       "      <td>Comparison - Black Death</td>\n",
       "      <td>0</td>\n",
       "    </tr>\n",
       "    <tr>\n",
       "      <th>1</th>\n",
       "      <td>Comparison - COVID and HIV</td>\n",
       "      <td>1</td>\n",
       "    </tr>\n",
       "    <tr>\n",
       "      <th>2</th>\n",
       "      <td>Comparison - COVID versus Flu Diagnosis</td>\n",
       "      <td>2</td>\n",
       "    </tr>\n",
       "    <tr>\n",
       "      <th>3</th>\n",
       "      <td>Comparison - Difference from Flu</td>\n",
       "      <td>3</td>\n",
       "    </tr>\n",
       "    <tr>\n",
       "      <th>4</th>\n",
       "      <td>Comparison - Earlier Existence</td>\n",
       "      <td>4</td>\n",
       "    </tr>\n",
       "  </tbody>\n",
       "</table>\n",
       "</div>"
      ],
      "text/plain": [
       "                                     label  cid\n",
       "0                 Comparison - Black Death    0\n",
       "1               Comparison - COVID and HIV    1\n",
       "2  Comparison - COVID versus Flu Diagnosis    2\n",
       "3         Comparison - Difference from Flu    3\n",
       "4           Comparison - Earlier Existence    4"
      ]
     },
     "execution_count": 22,
     "metadata": {},
     "output_type": "execute_result"
    }
   ],
   "source": [
    "categories = np.sort(categories)\n",
    "df_categories = pd.DataFrame(categories)\n",
    "df_categories['index'] = df_categories.index\n",
    "df_categories.columns = ['label', 'cid']\n",
    "df_categories.head()"
   ]
  },
  {
   "cell_type": "markdown",
   "id": "7a1ad37b",
   "metadata": {},
   "source": [
    "It doesn't matter whether we sort the categories as long as we keep the relationship between category name and its index, so that we can retrieve the correct category name later by its index"
   ]
  },
  {
   "cell_type": "code",
   "execution_count": 57,
   "id": "21c792e9",
   "metadata": {},
   "outputs": [],
   "source": [
    "df_categories.to_csv('labels.csv', index=False)"
   ]
  },
  {
   "cell_type": "code",
   "execution_count": 35,
   "id": "0ce9120b",
   "metadata": {},
   "outputs": [
    {
     "name": "stdout",
     "output_type": "stream",
     "text": [
      "wola~!\n"
     ]
    }
   ],
   "source": [
    "a = df_categories[df_categories['label'] == 'Comparison - COVID versus Flu Diagnosis']\n",
    "if len(a) > 0:\n",
    "    print('wola~!')\n",
    "else:\n",
    "    print('soga~!')"
   ]
  },
  {
   "cell_type": "code",
   "execution_count": 47,
   "id": "1b4d8746",
   "metadata": {},
   "outputs": [
    {
     "data": {
      "text/plain": [
       "2"
      ]
     },
     "execution_count": 47,
     "metadata": {},
     "output_type": "execute_result"
    }
   ],
   "source": [
    "a['cid'].values[0]"
   ]
  },
  {
   "cell_type": "code",
   "execution_count": 58,
   "id": "bf2bde32",
   "metadata": {
    "scrolled": false
   },
   "outputs": [
    {
     "data": {
      "text/html": [
       "<div>\n",
       "<style scoped>\n",
       "    .dataframe tbody tr th:only-of-type {\n",
       "        vertical-align: middle;\n",
       "    }\n",
       "\n",
       "    .dataframe tbody tr th {\n",
       "        vertical-align: top;\n",
       "    }\n",
       "\n",
       "    .dataframe thead th {\n",
       "        text-align: right;\n",
       "    }\n",
       "</style>\n",
       "<table border=\"1\" class=\"dataframe\">\n",
       "  <thead>\n",
       "    <tr style=\"text-align: right;\">\n",
       "      <th></th>\n",
       "      <th>label</th>\n",
       "      <th>text</th>\n",
       "      <th>cid</th>\n",
       "    </tr>\n",
       "  </thead>\n",
       "  <tbody>\n",
       "    <tr>\n",
       "      <th>1240</th>\n",
       "      <td>Reporting - Media Coverup</td>\n",
       "      <td>is the media hiding what is really going on in...</td>\n",
       "      <td>91</td>\n",
       "    </tr>\n",
       "    <tr>\n",
       "      <th>1241</th>\n",
       "      <td>Treatment - Quinine</td>\n",
       "      <td>can quinine be taken to fight this covid virus</td>\n",
       "      <td>207</td>\n",
       "    </tr>\n",
       "    <tr>\n",
       "      <th>1242</th>\n",
       "      <td>Treatment - Quinine</td>\n",
       "      <td>why is quinine effective in curing covid</td>\n",
       "      <td>207</td>\n",
       "    </tr>\n",
       "    <tr>\n",
       "      <th>1243</th>\n",
       "      <td>Other - Food Shortages</td>\n",
       "      <td>could we run out of things to eat</td>\n",
       "      <td>60</td>\n",
       "    </tr>\n",
       "    <tr>\n",
       "      <th>1244</th>\n",
       "      <td>Other - Food Shortages</td>\n",
       "      <td>do i need to stock up on food</td>\n",
       "      <td>60</td>\n",
       "    </tr>\n",
       "  </tbody>\n",
       "</table>\n",
       "</div>"
      ],
      "text/plain": [
       "                          label  \\\n",
       "1240  Reporting - Media Coverup   \n",
       "1241        Treatment - Quinine   \n",
       "1242        Treatment - Quinine   \n",
       "1243     Other - Food Shortages   \n",
       "1244     Other - Food Shortages   \n",
       "\n",
       "                                                   text  cid  \n",
       "1240  is the media hiding what is really going on in...   91  \n",
       "1241     can quinine be taken to fight this covid virus  207  \n",
       "1242           why is quinine effective in curing covid  207  \n",
       "1243                  could we run out of things to eat   60  \n",
       "1244                      do i need to stock up on food   60  "
      ]
     },
     "execution_count": 58,
     "metadata": {},
     "output_type": "execute_result"
    }
   ],
   "source": [
    "def getCategoryId(label):\n",
    "    if len(label) == 0:\n",
    "        raise ValueError('getCategoryId() gets an invalid value')\n",
    "    \n",
    "    l = str.strip(label)\n",
    "    label_cid = df_categories[df_categories['label'] == l]\n",
    "    if len(label_cid) == 0:\n",
    "        raise ValueError('getCategoryId() does not find a category for {}'.format(label))\n",
    "        \n",
    "    index = label_cid['cid'].values[0]\n",
    "    \n",
    "    return index\n",
    "\n",
    "# getCategoryId('Comparison - Difference from Flu')\n",
    "df_questions['cid'] = df_questions['label'].apply(lambda label: getCategoryId(label))\n",
    "df_questions.tail()"
   ]
  },
  {
   "cell_type": "code",
   "execution_count": 60,
   "id": "1f83d09b",
   "metadata": {
    "scrolled": true
   },
   "outputs": [
    {
     "data": {
      "text/html": [
       "<div>\n",
       "<style scoped>\n",
       "    .dataframe tbody tr th:only-of-type {\n",
       "        vertical-align: middle;\n",
       "    }\n",
       "\n",
       "    .dataframe tbody tr th {\n",
       "        vertical-align: top;\n",
       "    }\n",
       "\n",
       "    .dataframe thead th {\n",
       "        text-align: right;\n",
       "    }\n",
       "</style>\n",
       "<table border=\"1\" class=\"dataframe\">\n",
       "  <thead>\n",
       "    <tr style=\"text-align: right;\">\n",
       "      <th></th>\n",
       "      <th>label</th>\n",
       "      <th>text</th>\n",
       "      <th>cid</th>\n",
       "    </tr>\n",
       "  </thead>\n",
       "  <tbody>\n",
       "    <tr>\n",
       "      <th>1159</th>\n",
       "      <td>Transmission - Countries with no Cases</td>\n",
       "      <td>is there a country whose people are not expose...</td>\n",
       "      <td>174</td>\n",
       "    </tr>\n",
       "    <tr>\n",
       "      <th>1160</th>\n",
       "      <td>Transmission - Countries with no Cases</td>\n",
       "      <td>what countries are still safe from covid</td>\n",
       "      <td>174</td>\n",
       "    </tr>\n",
       "  </tbody>\n",
       "</table>\n",
       "</div>"
      ],
      "text/plain": [
       "                                       label  \\\n",
       "1159  Transmission - Countries with no Cases   \n",
       "1160  Transmission - Countries with no Cases   \n",
       "\n",
       "                                                   text  cid  \n",
       "1159  is there a country whose people are not expose...  174  \n",
       "1160           what countries are still safe from covid  174  "
      ]
     },
     "execution_count": 60,
     "metadata": {},
     "output_type": "execute_result"
    }
   ],
   "source": [
    "df_questions[df_questions['cid']==174]"
   ]
  },
  {
   "cell_type": "code",
   "execution_count": 61,
   "id": "717c4245",
   "metadata": {},
   "outputs": [],
   "source": [
    "df_questions.to_csv('questions_ds.csv', index=False)"
   ]
  }
 ],
 "metadata": {
  "kernelspec": {
   "display_name": "Python 3",
   "language": "python",
   "name": "python3"
  },
  "language_info": {
   "codemirror_mode": {
    "name": "ipython",
    "version": 3
   },
   "file_extension": ".py",
   "mimetype": "text/x-python",
   "name": "python",
   "nbconvert_exporter": "python",
   "pygments_lexer": "ipython3",
   "version": "3.8.10"
  }
 },
 "nbformat": 4,
 "nbformat_minor": 5
}
