{
 "cells": [
  {
   "cell_type": "code",
   "execution_count": 1,
   "id": "795374be",
   "metadata": {},
   "outputs": [],
   "source": [
    "import numpy as np\n",
    "import pandas as pd\n",
    "import matplotlib.pyplot as plt\n",
    "from pprint import pprint\n",
    "from fastai.text.all import *\n",
    "import glob"
   ]
  },
  {
   "cell_type": "markdown",
   "id": "4e846a05",
   "metadata": {},
   "source": [
    "## 1. Train the Laugange Mode with the oversampling data"
   ]
  },
  {
   "cell_type": "code",
   "execution_count": 4,
   "id": "857862df",
   "metadata": {},
   "outputs": [
    {
     "data": {
      "text/html": [
       "<div>\n",
       "<style scoped>\n",
       "    .dataframe tbody tr th:only-of-type {\n",
       "        vertical-align: middle;\n",
       "    }\n",
       "\n",
       "    .dataframe tbody tr th {\n",
       "        vertical-align: top;\n",
       "    }\n",
       "\n",
       "    .dataframe thead th {\n",
       "        text-align: right;\n",
       "    }\n",
       "</style>\n",
       "<table border=\"1\" class=\"dataframe\">\n",
       "  <thead>\n",
       "    <tr style=\"text-align: right;\">\n",
       "      <th></th>\n",
       "      <th>text</th>\n",
       "    </tr>\n",
       "  </thead>\n",
       "  <tbody>\n",
       "  </tbody>\n",
       "</table>\n",
       "</div>"
      ],
      "text/plain": [
       "Empty DataFrame\n",
       "Columns: [text]\n",
       "Index: []"
      ]
     },
     "execution_count": 4,
     "metadata": {},
     "output_type": "execute_result"
    }
   ],
   "source": [
    "word_path = 'words_oversampled_bt.csv'\n",
    "df_words = pd.read_csv(word_path)"
   ]
  },
  {
   "cell_type": "code",
   "execution_count": 11,
   "id": "6a748358",
   "metadata": {
    "scrolled": true
   },
   "outputs": [
    {
     "data": {
      "text/plain": [
       "text    6\n",
       "dtype: int64"
      ]
     },
     "execution_count": 11,
     "metadata": {},
     "output_type": "execute_result"
    }
   ],
   "source": [
    "null_columns=df_words.columns[df_words.isnull().any()]\n",
    "df_words[null_columns].isnull().sum()"
   ]
  },
  {
   "cell_type": "code",
   "execution_count": 12,
   "id": "e33b4a53",
   "metadata": {},
   "outputs": [
    {
     "data": {
      "text/plain": [
       "(11234, 1)"
      ]
     },
     "execution_count": 12,
     "metadata": {},
     "output_type": "execute_result"
    }
   ],
   "source": [
    "df_words = df_words.dropna(subset=['text'])\n",
    "df_words.shape"
   ]
  },
  {
   "cell_type": "code",
   "execution_count": 13,
   "id": "cd880903",
   "metadata": {
    "scrolled": true
   },
   "outputs": [
    {
     "data": {
      "text/plain": [
       "(4544,\n",
       " ['tax',\n",
       "  'waiting',\n",
       "  'prone',\n",
       "  'whitin',\n",
       "  'establish',\n",
       "  '21',\n",
       "  'techology',\n",
       "  'somethin',\n",
       "  'happing',\n",
       "  'thechnology',\n",
       "  'shi',\n",
       "  'structures',\n",
       "  'mundane',\n",
       "  'soviet',\n",
       "  'reuse',\n",
       "  'zre',\n",
       "  'xxfake',\n",
       "  'xxfake',\n",
       "  'xxfake',\n",
       "  'xxfake'])"
      ]
     },
     "execution_count": 13,
     "metadata": {},
     "output_type": "execute_result"
    }
   ],
   "source": [
    "# get the word model vocabulary\n",
    "def get_questions(path):\n",
    "    return df_words['text'].tolist()\n",
    "\n",
    "dls_lm = DataBlock(\n",
    "    blocks = TextBlock.from_df(df_words, is_lm=True),\n",
    "    get_items=get_questions,\n",
    "    splitter=RandomSplitter(0.2)\n",
    ").dataloaders(word_path, bs=120)\n",
    "\n",
    "# We get 4400 vocabulary\n",
    "lm_vocab = dls_lm.vocab\n",
    "len(lm_vocab), lm_vocab[-20:]"
   ]
  },
  {
   "cell_type": "code",
   "execution_count": 14,
   "id": "50767424",
   "metadata": {},
   "outputs": [
    {
     "data": {
      "text/html": [
       "<div>\n",
       "<style scoped>\n",
       "    .dataframe tbody tr th:only-of-type {\n",
       "        vertical-align: middle;\n",
       "    }\n",
       "\n",
       "    .dataframe tbody tr th {\n",
       "        vertical-align: top;\n",
       "    }\n",
       "\n",
       "    .dataframe thead th {\n",
       "        text-align: right;\n",
       "    }\n",
       "</style>\n",
       "<table border=\"1\" class=\"dataframe\">\n",
       "  <thead>\n",
       "    <tr style=\"text-align: right;\">\n",
       "      <th></th>\n",
       "      <th>text</th>\n",
       "    </tr>\n",
       "  </thead>\n",
       "  <tbody>\n",
       "    <tr>\n",
       "      <th>11235</th>\n",
       "      <td>soI differ your worst tips ll ower old nipper doing their steay at habitation</td>\n",
       "    </tr>\n",
       "    <tr>\n",
       "      <th>11236</th>\n",
       "      <td>whah of bad bakshish for entertaining honestly to goodness schildren during theirs happily happily manage</td>\n",
       "    </tr>\n",
       "    <tr>\n",
       "      <th>11237</th>\n",
       "      <td>what appear yore deadly enemy foa hurting erstwhile childreans during thier hitch at home</td>\n",
       "    </tr>\n",
       "    <tr>\n",
       "      <th>11238</th>\n",
       "      <td>noct differ yoyur spoiled talents for harbour onetime CHILDREM during that visit a home</td>\n",
       "    </tr>\n",
       "    <tr>\n",
       "      <th>11239</th>\n",
       "      <td>Waht  morw than bad steer made entertaining orl children during their arrest at larger</td>\n",
       "    </tr>\n",
       "  </tbody>\n",
       "</table>\n",
       "</div>"
      ],
      "text/plain": [
       "                                                                                                            text\n",
       "11235                              soI differ your worst tips ll ower old nipper doing their steay at habitation\n",
       "11236  whah of bad bakshish for entertaining honestly to goodness schildren during theirs happily happily manage\n",
       "11237                  what appear yore deadly enemy foa hurting erstwhile childreans during thier hitch at home\n",
       "11238                    noct differ yoyur spoiled talents for harbour onetime CHILDREM during that visit a home\n",
       "11239                     Waht  morw than bad steer made entertaining orl children during their arrest at larger"
      ]
     },
     "execution_count": 14,
     "metadata": {},
     "output_type": "execute_result"
    }
   ],
   "source": [
    "df_words.tail()"
   ]
  },
  {
   "cell_type": "code",
   "execution_count": 15,
   "id": "6fba33ca",
   "metadata": {},
   "outputs": [
    {
     "data": {
      "text/html": [
       "<div>\n",
       "<style scoped>\n",
       "    .dataframe tbody tr th:only-of-type {\n",
       "        vertical-align: middle;\n",
       "    }\n",
       "\n",
       "    .dataframe tbody tr th {\n",
       "        vertical-align: top;\n",
       "    }\n",
       "\n",
       "    .dataframe thead th {\n",
       "        text-align: right;\n",
       "    }\n",
       "</style>\n",
       "<table border=\"1\" class=\"dataframe\">\n",
       "  <thead>\n",
       "    <tr style=\"text-align: right;\">\n",
       "      <th></th>\n",
       "      <th>vocab</th>\n",
       "    </tr>\n",
       "  </thead>\n",
       "  <tbody>\n",
       "    <tr>\n",
       "      <th>0</th>\n",
       "      <td>xxunk</td>\n",
       "    </tr>\n",
       "    <tr>\n",
       "      <th>1</th>\n",
       "      <td>xxpad</td>\n",
       "    </tr>\n",
       "    <tr>\n",
       "      <th>2</th>\n",
       "      <td>xxbos</td>\n",
       "    </tr>\n",
       "    <tr>\n",
       "      <th>3</th>\n",
       "      <td>xxeos</td>\n",
       "    </tr>\n",
       "    <tr>\n",
       "      <th>4</th>\n",
       "      <td>xxfld</td>\n",
       "    </tr>\n",
       "    <tr>\n",
       "      <th>...</th>\n",
       "      <td>...</td>\n",
       "    </tr>\n",
       "    <tr>\n",
       "      <th>4539</th>\n",
       "      <td>zre</td>\n",
       "    </tr>\n",
       "    <tr>\n",
       "      <th>4540</th>\n",
       "      <td>xxfake</td>\n",
       "    </tr>\n",
       "    <tr>\n",
       "      <th>4541</th>\n",
       "      <td>xxfake</td>\n",
       "    </tr>\n",
       "    <tr>\n",
       "      <th>4542</th>\n",
       "      <td>xxfake</td>\n",
       "    </tr>\n",
       "    <tr>\n",
       "      <th>4543</th>\n",
       "      <td>xxfake</td>\n",
       "    </tr>\n",
       "  </tbody>\n",
       "</table>\n",
       "<p>4544 rows × 1 columns</p>\n",
       "</div>"
      ],
      "text/plain": [
       "       vocab\n",
       "0      xxunk\n",
       "1      xxpad\n",
       "2      xxbos\n",
       "3      xxeos\n",
       "4      xxfld\n",
       "...      ...\n",
       "4539     zre\n",
       "4540  xxfake\n",
       "4541  xxfake\n",
       "4542  xxfake\n",
       "4543  xxfake\n",
       "\n",
       "[4544 rows x 1 columns]"
      ]
     },
     "execution_count": 15,
     "metadata": {},
     "output_type": "execute_result"
    }
   ],
   "source": [
    "df_covid_vocabulary = pd.DataFrame(lm_vocab, columns=['vocab'])\n",
    "df_covid_vocabulary.to_csv('covid_lm_vocab.csv', index=False)\n",
    "df_covid_vocabulary"
   ]
  },
  {
   "cell_type": "code",
   "execution_count": 16,
   "id": "d26e54f6",
   "metadata": {},
   "outputs": [
    {
     "data": {
      "text/html": [
       "<table border=\"1\" class=\"dataframe\">\n",
       "  <thead>\n",
       "    <tr style=\"text-align: left;\">\n",
       "      <th>epoch</th>\n",
       "      <th>train_loss</th>\n",
       "      <th>valid_loss</th>\n",
       "      <th>accuracy</th>\n",
       "      <th>perplexity</th>\n",
       "      <th>time</th>\n",
       "    </tr>\n",
       "  </thead>\n",
       "  <tbody>\n",
       "    <tr>\n",
       "      <td>0</td>\n",
       "      <td>7.102335</td>\n",
       "      <td>5.911822</td>\n",
       "      <td>0.162635</td>\n",
       "      <td>369.378662</td>\n",
       "      <td>00:04</td>\n",
       "    </tr>\n",
       "  </tbody>\n",
       "</table>"
      ],
      "text/plain": [
       "<IPython.core.display.HTML object>"
      ]
     },
     "metadata": {},
     "output_type": "display_data"
    }
   ],
   "source": [
    "lm_learner = language_model_learner(\n",
    "    dls_lm, AWD_LSTM, drop_mult=0.3, \n",
    "    metrics=[accuracy, Perplexity()]).to_fp16()\n",
    "\n",
    "lm_learner.fit_one_cycle(1, 2e-2)"
   ]
  },
  {
   "cell_type": "code",
   "execution_count": 17,
   "id": "add893ca",
   "metadata": {},
   "outputs": [
    {
     "data": {
      "text/html": [],
      "text/plain": [
       "<IPython.core.display.HTML object>"
      ]
     },
     "metadata": {},
     "output_type": "display_data"
    },
    {
     "data": {
      "text/plain": [
       "SuggestedLRs(valley=tensor(0.0030))"
      ]
     },
     "execution_count": 17,
     "metadata": {},
     "output_type": "execute_result"
    },
    {
     "data": {
      "image/png": "[encoded data removed]",
      "text/plain": [
       "<Figure size 432x288 with 1 Axes>"
      ]
     },
     "metadata": {
      "needs_background": "light"
     },
     "output_type": "display_data"
    }
   ],
   "source": [
    "lm_learner.lr_find()"
   ]
  },
  {
   "cell_type": "code",
   "execution_count": 18,
   "id": "dd4d450f",
   "metadata": {},
   "outputs": [
    {
     "data": {
      "text/html": [
       "<table border=\"1\" class=\"dataframe\">\n",
       "  <thead>\n",
       "    <tr style=\"text-align: left;\">\n",
       "      <th>epoch</th>\n",
       "      <th>train_loss</th>\n",
       "      <th>valid_loss</th>\n",
       "      <th>accuracy</th>\n",
       "      <th>perplexity</th>\n",
       "      <th>time</th>\n",
       "    </tr>\n",
       "  </thead>\n",
       "  <tbody>\n",
       "    <tr>\n",
       "      <td>0</td>\n",
       "      <td>6.188118</td>\n",
       "      <td>5.652237</td>\n",
       "      <td>0.194888</td>\n",
       "      <td>284.928253</td>\n",
       "      <td>00:04</td>\n",
       "    </tr>\n",
       "  </tbody>\n",
       "</table>"
      ],
      "text/plain": [
       "<IPython.core.display.HTML object>"
      ]
     },
     "metadata": {},
     "output_type": "display_data"
    }
   ],
   "source": [
    "lm_learner.freeze_to(-2)\n",
    "lm_learner.fit_one_cycle(1, 3e-3)"
   ]
  },
  {
   "cell_type": "code",
   "execution_count": 19,
   "id": "02a24ba8",
   "metadata": {},
   "outputs": [
    {
     "data": {
      "text/html": [],
      "text/plain": [
       "<IPython.core.display.HTML object>"
      ]
     },
     "metadata": {},
     "output_type": "display_data"
    },
    {
     "data": {
      "text/plain": [
       "SuggestedLRs(valley=tensor(0.0001))"
      ]
     },
     "execution_count": 19,
     "metadata": {},
     "output_type": "execute_result"
    },
    {
     "data": {
      "image/png": "[encoded data removed]",
      "text/plain": [
       "<Figure size 432x288 with 1 Axes>"
      ]
     },
     "metadata": {
      "needs_background": "light"
     },
     "output_type": "display_data"
    }
   ],
   "source": [
    "lm_learner.lr_find()"
   ]
  },
  {
   "cell_type": "code",
   "execution_count": 20,
   "id": "678170eb",
   "metadata": {},
   "outputs": [
    {
     "data": {
      "text/html": [
       "<table border=\"1\" class=\"dataframe\">\n",
       "  <thead>\n",
       "    <tr style=\"text-align: left;\">\n",
       "      <th>epoch</th>\n",
       "      <th>train_loss</th>\n",
       "      <th>valid_loss</th>\n",
       "      <th>accuracy</th>\n",
       "      <th>perplexity</th>\n",
       "      <th>time</th>\n",
       "    </tr>\n",
       "  </thead>\n",
       "  <tbody>\n",
       "    <tr>\n",
       "      <td>0</td>\n",
       "      <td>5.818279</td>\n",
       "      <td>5.626685</td>\n",
       "      <td>0.196296</td>\n",
       "      <td>277.739777</td>\n",
       "      <td>00:04</td>\n",
       "    </tr>\n",
       "  </tbody>\n",
       "</table>"
      ],
      "text/plain": [
       "<IPython.core.display.HTML object>"
      ]
     },
     "metadata": {},
     "output_type": "display_data"
    }
   ],
   "source": [
    "lm_learner.freeze_to(-3)\n",
    "lm_learner.fit_one_cycle(1, slice(1e-4/(2.6**4),1e-4))"
   ]
  },
  {
   "cell_type": "code",
   "execution_count": 21,
   "id": "deda654d",
   "metadata": {},
   "outputs": [
    {
     "data": {
      "text/html": [],
      "text/plain": [
       "<IPython.core.display.HTML object>"
      ]
     },
     "metadata": {},
     "output_type": "display_data"
    },
    {
     "data": {
      "text/plain": [
       "SuggestedLRs(valley=tensor(7.5858e-05))"
      ]
     },
     "execution_count": 21,
     "metadata": {},
     "output_type": "execute_result"
    },
    {
     "data": {
      "image/png": "[encoded data removed]",
      "text/plain": [
       "<Figure size 432x288 with 1 Axes>"
      ]
     },
     "metadata": {
      "needs_background": "light"
     },
     "output_type": "display_data"
    }
   ],
   "source": [
    "lm_learner.lr_find()"
   ]
  },
  {
   "cell_type": "code",
   "execution_count": 22,
   "id": "c2bb413a",
   "metadata": {},
   "outputs": [
    {
     "data": {
      "text/html": [
       "<table border=\"1\" class=\"dataframe\">\n",
       "  <thead>\n",
       "    <tr style=\"text-align: left;\">\n",
       "      <th>epoch</th>\n",
       "      <th>train_loss</th>\n",
       "      <th>valid_loss</th>\n",
       "      <th>accuracy</th>\n",
       "      <th>perplexity</th>\n",
       "      <th>time</th>\n",
       "    </tr>\n",
       "  </thead>\n",
       "  <tbody>\n",
       "    <tr>\n",
       "      <td>0</td>\n",
       "      <td>5.806459</td>\n",
       "      <td>5.621622</td>\n",
       "      <td>0.196142</td>\n",
       "      <td>276.337250</td>\n",
       "      <td>00:04</td>\n",
       "    </tr>\n",
       "    <tr>\n",
       "      <td>1</td>\n",
       "      <td>5.798668</td>\n",
       "      <td>5.600278</td>\n",
       "      <td>0.195949</td>\n",
       "      <td>270.501709</td>\n",
       "      <td>00:04</td>\n",
       "    </tr>\n",
       "    <tr>\n",
       "      <td>2</td>\n",
       "      <td>5.784911</td>\n",
       "      <td>5.568864</td>\n",
       "      <td>0.197242</td>\n",
       "      <td>262.136230</td>\n",
       "      <td>00:04</td>\n",
       "    </tr>\n",
       "    <tr>\n",
       "      <td>3</td>\n",
       "      <td>5.767083</td>\n",
       "      <td>5.541074</td>\n",
       "      <td>0.198746</td>\n",
       "      <td>254.951736</td>\n",
       "      <td>00:04</td>\n",
       "    </tr>\n",
       "    <tr>\n",
       "      <td>4</td>\n",
       "      <td>5.749382</td>\n",
       "      <td>5.522717</td>\n",
       "      <td>0.199228</td>\n",
       "      <td>250.314102</td>\n",
       "      <td>00:04</td>\n",
       "    </tr>\n",
       "    <tr>\n",
       "      <td>5</td>\n",
       "      <td>5.733768</td>\n",
       "      <td>5.509090</td>\n",
       "      <td>0.199730</td>\n",
       "      <td>246.926315</td>\n",
       "      <td>00:04</td>\n",
       "    </tr>\n",
       "    <tr>\n",
       "      <td>6</td>\n",
       "      <td>5.720606</td>\n",
       "      <td>5.499309</td>\n",
       "      <td>0.199904</td>\n",
       "      <td>244.522919</td>\n",
       "      <td>00:04</td>\n",
       "    </tr>\n",
       "    <tr>\n",
       "      <td>7</td>\n",
       "      <td>5.709253</td>\n",
       "      <td>5.493525</td>\n",
       "      <td>0.199981</td>\n",
       "      <td>243.112671</td>\n",
       "      <td>00:04</td>\n",
       "    </tr>\n",
       "    <tr>\n",
       "      <td>8</td>\n",
       "      <td>5.699833</td>\n",
       "      <td>5.491453</td>\n",
       "      <td>0.200154</td>\n",
       "      <td>242.609497</td>\n",
       "      <td>00:04</td>\n",
       "    </tr>\n",
       "    <tr>\n",
       "      <td>9</td>\n",
       "      <td>5.692200</td>\n",
       "      <td>5.491118</td>\n",
       "      <td>0.200135</td>\n",
       "      <td>242.528198</td>\n",
       "      <td>00:04</td>\n",
       "    </tr>\n",
       "  </tbody>\n",
       "</table>"
      ],
      "text/plain": [
       "<IPython.core.display.HTML object>"
      ]
     },
     "metadata": {},
     "output_type": "display_data"
    },
    {
     "data": {
      "image/png": "[encoded data removed]",
      "text/plain": [
       "<Figure size 432x288 with 1 Axes>"
      ]
     },
     "metadata": {},
     "output_type": "display_data"
    }
   ],
   "source": [
    "lm_learner.unfreeze()\n",
    "lm_learner.fit_one_cycle(10, slice(7.5858e-05/(2.6**4),7.5858e-05),cbs=[ShowGraphCallback()])"
   ]
  },
  {
   "cell_type": "code",
   "execution_count": 23,
   "id": "c329a44a",
   "metadata": {},
   "outputs": [
    {
     "data": {
      "text/html": [],
      "text/plain": [
       "<IPython.core.display.HTML object>"
      ]
     },
     "metadata": {},
     "output_type": "display_data"
    },
    {
     "data": {
      "text/plain": [
       "SuggestedLRs(valley=tensor(0.0002))"
      ]
     },
     "execution_count": 23,
     "metadata": {},
     "output_type": "execute_result"
    },
    {
     "data": {
      "image/png": "[encoded data removed]",
      "text/plain": [
       "<Figure size 432x288 with 1 Axes>"
      ]
     },
     "metadata": {
      "needs_background": "light"
     },
     "output_type": "display_data"
    }
   ],
   "source": [
    "lm_learner.lr_find()"
   ]
  },
  {
   "cell_type": "markdown",
   "id": "b026ad82",
   "metadata": {},
   "source": [
    "#### As we can see that the validation and train started deverge, it's time to stop training"
   ]
  },
  {
   "cell_type": "code",
   "execution_count": 24,
   "id": "770222c7",
   "metadata": {
    "scrolled": true
   },
   "outputs": [
    {
     "data": {
      "text/plain": [
       "Path('models/lm_10epoch-os-bt.pth')"
      ]
     },
     "execution_count": 24,
     "metadata": {},
     "output_type": "execute_result"
    }
   ],
   "source": [
    "lm_learner.save('lm_10epoch-os-bt')"
   ]
  },
  {
   "cell_type": "code",
   "execution_count": 25,
   "id": "7d0aee82",
   "metadata": {},
   "outputs": [],
   "source": [
    "lm_learner.save_encoder('lm_10epoch-os-bt-encoder')"
   ]
  },
  {
   "cell_type": "code",
   "execution_count": 26,
   "id": "589ca0cf",
   "metadata": {},
   "outputs": [],
   "source": [
    "lm_learner.export('lm_10epoch-os-bt.pkl')"
   ]
  },
  {
   "cell_type": "markdown",
   "id": "473bea0c",
   "metadata": {},
   "source": [
    "Now I got my language mode trained and saved the encoder for later use when training the text classification mode."
   ]
  },
  {
   "cell_type": "code",
   "execution_count": 27,
   "id": "9b027391",
   "metadata": {
    "scrolled": true
   },
   "outputs": [
    {
     "data": {
      "text/html": [],
      "text/plain": [
       "<IPython.core.display.HTML object>"
      ]
     },
     "metadata": {},
     "output_type": "display_data"
    },
    {
     "data": {
      "text/html": [],
      "text/plain": [
       "<IPython.core.display.HTML object>"
      ]
     },
     "metadata": {},
     "output_type": "display_data"
    },
    {
     "name": "stdout",
     "output_type": "stream",
     "text": [
      "where can i travel from the United States to these countries what can i get i can the nod to his mother of you why will i miss him how oft you stay and issue another isuue what\n",
      "where can i travel to see the plance cry the throne when the impact is why the funeral of the body is done performed the funeral for the deceased born except in the case of the funeral worker who died a thick matter\n"
     ]
    }
   ],
   "source": [
    "TEXT = \"where can I travel\"\n",
    "N_WORDS = 40\n",
    "N_SENTENCES = 2\n",
    "preds = [lm_learner.predict(TEXT, N_WORDS, temperature=0.75) \n",
    "         for _ in range(N_SENTENCES)]\n",
    "print(\"\\n\".join(preds))"
   ]
  },
  {
   "cell_type": "code",
   "execution_count": 28,
   "id": "c243ea8c",
   "metadata": {},
   "outputs": [],
   "source": [
    "# Save the vocabulary from the language mode for text classification model\n",
    "df_lm_vocab = pd.DataFrame(lm_vocab)\n",
    "df_lm_vocab.to_csv('assets/lm_vocab.csv', index=False, header=None)"
   ]
  },
  {
   "cell_type": "markdown",
   "id": "1e88a5fc",
   "metadata": {},
   "source": [
    "## 2. Training the Text Classification Model"
   ]
  },
  {
   "cell_type": "markdown",
   "id": "d8ff7e2f",
   "metadata": {},
   "source": [
    "**Make sure the ds files loaded in the sequence that my model training process expects**\n",
    "\n",
    "So what does this mean?\n",
    "Initially, I have my file named like this:\n",
    "\n",
    "1. '/media/winstonfan/Workspace/MyDoc/Interviews/DigitalVictoria/temp/covidfaqbot/datascience/notebooks/ds_100.csv',\n",
    "2. '/media/winstonfan/Workspace/MyDoc/Interviews/DigitalVictoria/temp/covidfaqbot/datascience/notebooks/ds_130.csv',\n",
    "3. '/media/winstonfan/Workspace/MyDoc/Interviews/DigitalVictoria/temp/covidfaqbot/datascience/notebooks/ds_165.csv',\n",
    "4. '/media/winstonfan/Workspace/MyDoc/Interviews/DigitalVictoria/temp/covidfaqbot/datascience/notebooks/ds_255.csv',\n",
    "5. '/media/winstonfan/Workspace/MyDoc/Interviews/DigitalVictoria/temp/covidfaqbot/datascience/notebooks/ds_30.csv',\n",
    "6. '/media/winstonfan/Workspace/MyDoc/Interviews/DigitalVictoria/temp/covidfaqbot/datascience/notebooks/ds_65.csv',\n",
    "7. '/media/winstonfan/Workspace/MyDoc/Interviews/DigitalVictoria/temp/covidfaqbot/datascience/notebooks/ds_81.csv'\n",
    " \n",
    "And when we load the files using the `glob.glob()` method, it loads the model for categories which have more than 100 but less then 130 number of sampling data first, so the `all_file[0]` is actually the data set for categories 100-130, rather than the data set which has the categories which have less then 30 number of sampleing data!!!!"
   ]
  },
  {
   "cell_type": "code",
   "execution_count": 2,
   "id": "4530c234",
   "metadata": {},
   "outputs": [
    {
     "name": "stdout",
     "output_type": "stream",
     "text": [
      "Series([], dtype: float64)\n",
      "Series([], dtype: float64)\n",
      "Series([], dtype: float64)\n",
      "Series([], dtype: float64)\n",
      "Series([], dtype: float64)\n",
      "Series([], dtype: float64)\n",
      "Series([], dtype: float64)\n"
     ]
    }
   ],
   "source": [
    "path = r'/media/winstonfan/Workspace/MyDoc/Interviews/DigitalVictoria/temp/covidfaqbot/datascience/notebooks' # use your path\n",
    "all_files = glob.glob(path + \"/ds_*.csv\")\n",
    "\n",
    "# check na\n",
    "for fname in all_files:    \n",
    "    df_labels = pd.read_csv(fname)\n",
    "\n",
    "    null_columns=df_labels.columns[df_labels.isnull().any()]\n",
    "    print(df_labels[null_columns].isnull().sum())"
   ]
  },
  {
   "cell_type": "code",
   "execution_count": 3,
   "id": "c1dc3d8c",
   "metadata": {},
   "outputs": [
    {
     "data": {
      "text/plain": [
       "['/media/winstonfan/Workspace/MyDoc/Interviews/DigitalVictoria/temp/covidfaqbot/datascience/notebooks/ds_0_30.csv',\n",
       " '/media/winstonfan/Workspace/MyDoc/Interviews/DigitalVictoria/temp/covidfaqbot/datascience/notebooks/ds_1_65.csv',\n",
       " '/media/winstonfan/Workspace/MyDoc/Interviews/DigitalVictoria/temp/covidfaqbot/datascience/notebooks/ds_2_81.csv',\n",
       " '/media/winstonfan/Workspace/MyDoc/Interviews/DigitalVictoria/temp/covidfaqbot/datascience/notebooks/ds_3_100.csv',\n",
       " '/media/winstonfan/Workspace/MyDoc/Interviews/DigitalVictoria/temp/covidfaqbot/datascience/notebooks/ds_4_130.csv',\n",
       " '/media/winstonfan/Workspace/MyDoc/Interviews/DigitalVictoria/temp/covidfaqbot/datascience/notebooks/ds_5_165.csv',\n",
       " '/media/winstonfan/Workspace/MyDoc/Interviews/DigitalVictoria/temp/covidfaqbot/datascience/notebooks/ds_6_255.csv']"
      ]
     },
     "execution_count": 3,
     "metadata": {},
     "output_type": "execute_result"
    }
   ],
   "source": [
    "all_files"
   ]
  },
  {
   "cell_type": "code",
   "execution_count": 4,
   "id": "b70641e9",
   "metadata": {},
   "outputs": [
    {
     "data": {
      "text/plain": [
       "['xxunk',\n",
       " 'xxpad',\n",
       " 'xxbos',\n",
       " 'xxeos',\n",
       " 'xxfld',\n",
       " 'xxrep',\n",
       " 'xxwrep',\n",
       " 'xxup',\n",
       " 'xxmaj',\n",
       " 'covid',\n",
       " 'the',\n",
       " 'to',\n",
       " 'is',\n",
       " 'what',\n",
       " 'of',\n",
       " 'how',\n",
       " 'i',\n",
       " 'a',\n",
       " 'be',\n",
       " 'for',\n",
       " 'in',\n",
       " 'are',\n",
       " 'can',\n",
       " 'will',\n",
       " 'do',\n",
       " 'it',\n",
       " 'and',\n",
       " 'from',\n",
       " 'you',\n",
       " 'that',\n",
       " 'should',\n",
       " 'pandemic',\n",
       " 'if',\n",
       " 'have',\n",
       " 'why',\n",
       " '[',\n",
       " 'on',\n",
       " 'with',\n",
       " 'virus',\n",
       " 'get',\n",
       " 'or',\n",
       " \"'s\",\n",
       " 'china',\n",
       " 'does',\n",
       " 'there',\n",
       " 'at',\n",
       " 'who',\n",
       " 'when',\n",
       " 'my',\n",
       " 'we',\n",
       " 'people',\n",
       " 'by',\n",
       " 'was',\n",
       " 'which',\n",
       " 'as',\n",
       " 'during',\n",
       " 'an',\n",
       " 'wherefore',\n",
       " 'has',\n",
       " 'did',\n",
       " 's',\n",
       " 'go',\n",
       " 'than',\n",
       " 'trump',\n",
       " 'outbreak',\n",
       " 'make',\n",
       " 'world',\n",
       " 'after',\n",
       " 'kill',\n",
       " 'us',\n",
       " 'take',\n",
       " 'virtus',\n",
       " 'information',\n",
       " 'vaccine',\n",
       " 'nt',\n",
       " 'spread',\n",
       " 'come',\n",
       " 'long',\n",
       " 'not',\n",
       " ')',\n",
       " 'symptoms',\n",
       " 'live',\n",
       " 'technology',\n",
       " 'more',\n",
       " 'your',\n",
       " 'test',\n",
       " 'so',\n",
       " 'any',\n",
       " '(',\n",
       " 'out',\n",
       " 'lockdown',\n",
       " '.',\n",
       " 'about',\n",
       " 'where',\n",
       " 'due',\n",
       " 'health',\n",
       " 'being',\n",
       " 'risk',\n",
       " 'haw',\n",
       " 'against',\n",
       " 'they',\n",
       " 'o',\n",
       " 'been',\n",
       " 'could',\n",
       " 'flu',\n",
       " 'would',\n",
       " 'between',\n",
       " 'de',\n",
       " 'way',\n",
       " 'sanitizer',\n",
       " 'safe',\n",
       " 'e',\n",
       " 'up',\n",
       " 'end',\n",
       " 'patients',\n",
       " 'wath',\n",
       " 'some',\n",
       " 'hou',\n",
       " 'infected',\n",
       " 'home',\n",
       " 'sars',\n",
       " 'other',\n",
       " 'many',\n",
       " 'me',\n",
       " 'protect',\n",
       " 'tested',\n",
       " 'personify',\n",
       " 'food',\n",
       " \"'\",\n",
       " 'ho',\n",
       " 'am',\n",
       " 'like',\n",
       " 'most',\n",
       " 'cov',\n",
       " 'this',\n",
       " 'their',\n",
       " 'first',\n",
       " 'cure',\n",
       " 'computer',\n",
       " 'usa',\n",
       " 'cause',\n",
       " '3',\n",
       " 'ca',\n",
       " 'think',\n",
       " 'affected',\n",
       " 'work',\n",
       " 'prevent',\n",
       " 'patient',\n",
       " 'all',\n",
       " 'tests',\n",
       " 'he',\n",
       " 'going',\n",
       " 'no',\n",
       " 'organization',\n",
       " 'bequeath',\n",
       " 'sick',\n",
       " 'animals',\n",
       " 'possible',\n",
       " 'infect',\n",
       " 'someone',\n",
       " 'now',\n",
       " 'th',\n",
       " 'down',\n",
       " 'disinfectant',\n",
       " 'l',\n",
       " 'help',\n",
       " 'then',\n",
       " 'embody',\n",
       " 'follow',\n",
       " 'blood',\n",
       " 'mask',\n",
       " 'use',\n",
       " 'because',\n",
       " 'one',\n",
       " 'hand',\n",
       " 'disease',\n",
       " 'stay',\n",
       " 'novel',\n",
       " 'america',\n",
       " 'vaccinum',\n",
       " 'severe',\n",
       " 'states',\n",
       " 'testament',\n",
       " 'wich',\n",
       " 'likely',\n",
       " 'still',\n",
       " 'best',\n",
       " 'death',\n",
       " 'leave',\n",
       " 'stop',\n",
       " 'cases',\n",
       " 'se',\n",
       " 'te',\n",
       " 'over',\n",
       " 'fo',\n",
       " 'accurate',\n",
       " 'contagious',\n",
       " 'ther',\n",
       " 'respiratory',\n",
       " 'worse',\n",
       " 'hwo',\n",
       " 'chloroquine',\n",
       " 'f',\n",
       " 'symptom',\n",
       " 'back',\n",
       " 'ih',\n",
       " 'new',\n",
       " 'whi',\n",
       " 'ot',\n",
       " 'whay',\n",
       " 'medical',\n",
       " 'cost',\n",
       " 'g',\n",
       " 'case',\n",
       " 'non',\n",
       " 'exist',\n",
       " \"n't\",\n",
       " 'waht',\n",
       " 'infection',\n",
       " 'd',\n",
       " 'through',\n",
       " 'human',\n",
       " 'equal',\n",
       " 'testing',\n",
       " 'off',\n",
       " 'know',\n",
       " 'covids',\n",
       " 'm',\n",
       " 'effective',\n",
       " 'wo',\n",
       " 'impact',\n",
       " 'child',\n",
       " 'time',\n",
       " 'countries',\n",
       " 'while',\n",
       " 'ar',\n",
       " 'bovine',\n",
       " 'its',\n",
       " 'comprise',\n",
       " 'antibody',\n",
       " 'much',\n",
       " 'true',\n",
       " 'had',\n",
       " 'ir',\n",
       " 'represent',\n",
       " 'ok',\n",
       " 'start',\n",
       " 'immunity',\n",
       " 'getting',\n",
       " 'transmitted',\n",
       " 'constitute',\n",
       " 'haow',\n",
       " 'far',\n",
       " 'need',\n",
       " 't',\n",
       " 'ibuprofen',\n",
       " 'good',\n",
       " 'dangerous',\n",
       " 'stock',\n",
       " 'market',\n",
       " 'operating',\n",
       " 'hydroxychloroquine',\n",
       " 'them',\n",
       " 'products',\n",
       " 'immune',\n",
       " 'crisis',\n",
       " 'treat',\n",
       " 'without',\n",
       " 'astir',\n",
       " 'give',\n",
       " 'ti',\n",
       " 'por',\n",
       " 'donald',\n",
       " 'united',\n",
       " 'public',\n",
       " 'state',\n",
       " 'family',\n",
       " 'die',\n",
       " 'mutate',\n",
       " 'fot',\n",
       " 'volition',\n",
       " 'pet',\n",
       " 'plasma',\n",
       " 'buy',\n",
       " 'ein',\n",
       " 'too',\n",
       " 'travel',\n",
       " 'face',\n",
       " 'died',\n",
       " 'kids',\n",
       " 'whan',\n",
       " 'ou',\n",
       " 'may',\n",
       " 'before',\n",
       " 'water',\n",
       " 'number',\n",
       " 'well',\n",
       " 'epidemic',\n",
       " 'taking',\n",
       " 'life',\n",
       " 'our',\n",
       " 'high',\n",
       " 'children',\n",
       " 'wy',\n",
       " 'care',\n",
       " 'point',\n",
       " 'found',\n",
       " 'used',\n",
       " 'body',\n",
       " 'asymptomatic',\n",
       " 'want',\n",
       " 'mean',\n",
       " 'aa',\n",
       " 'place',\n",
       " '/',\n",
       " 'treatment',\n",
       " 'recovered',\n",
       " 'ne',\n",
       " 'rate',\n",
       " 'al',\n",
       " 'checks',\n",
       " 'develop',\n",
       " 'economic',\n",
       " 'ye',\n",
       " 'disinfect',\n",
       " 'steps',\n",
       " 'tu',\n",
       " '5',\n",
       " 'away',\n",
       " 'animal',\n",
       " 'surfaces',\n",
       " 'anal',\n",
       " 'fight',\n",
       " 'happen',\n",
       " 'into',\n",
       " 'la',\n",
       " 'believe',\n",
       " 'better',\n",
       " 'were',\n",
       " 'able',\n",
       " 'recover',\n",
       " 'anyone',\n",
       " '1',\n",
       " 'really',\n",
       " 'person',\n",
       " 'tho',\n",
       " 'model',\n",
       " 'deaths',\n",
       " 'wear',\n",
       " 'myself',\n",
       " 'distancing',\n",
       " 'bad',\n",
       " 'business',\n",
       " 'influenza',\n",
       " 'put',\n",
       " '’ve',\n",
       " 'country',\n",
       " 'ow',\n",
       " 'drug',\n",
       " 'iff',\n",
       " 'eruption',\n",
       " 'specific',\n",
       " 'dies',\n",
       " 're',\n",
       " 'athe',\n",
       " 'wh',\n",
       " 'catch',\n",
       " 'acute',\n",
       " 'syndrome',\n",
       " 'reported',\n",
       " 'cdc',\n",
       " 'global',\n",
       " 'spreading',\n",
       " 'quarantine',\n",
       " 'potential',\n",
       " 'originate',\n",
       " 'os',\n",
       " 'avoid',\n",
       " 'genome',\n",
       " 'bee',\n",
       " 'form',\n",
       " 'treate',\n",
       " 'antibodies',\n",
       " 'wht',\n",
       " 'bed',\n",
       " 'survive',\n",
       " 'greater',\n",
       " 'find',\n",
       " 'risky',\n",
       " 'change',\n",
       " 'same',\n",
       " 'amid',\n",
       " 'types',\n",
       " 'exposure',\n",
       " 'president',\n",
       " 'run',\n",
       " 'economy',\n",
       " 'once',\n",
       " 'normal',\n",
       " 'un',\n",
       " 'made',\n",
       " 'responsible',\n",
       " 'causes',\n",
       " 'effect',\n",
       " 'thing',\n",
       " 'recovering',\n",
       " 'risck',\n",
       " 'illness',\n",
       " 'nwhy',\n",
       " 'oof',\n",
       " 'en',\n",
       " 'ba',\n",
       " 'since',\n",
       " 'opertin',\n",
       " 'workers',\n",
       " 'ara',\n",
       " 'tht',\n",
       " 'prepare',\n",
       " 'bat',\n",
       " 'bi',\n",
       " 'early',\n",
       " 'wthat',\n",
       " '2020',\n",
       " 'di',\n",
       " 'doing',\n",
       " 'amidst',\n",
       " 'handling',\n",
       " 'own',\n",
       " 'wahat',\n",
       " 'two',\n",
       " 'mosquitoes',\n",
       " 'higher',\n",
       " 'cute',\n",
       " 'bem',\n",
       " 'wha',\n",
       " 'tle',\n",
       " 'sympton',\n",
       " 'thy',\n",
       " 'ist',\n",
       " 'og',\n",
       " 'related',\n",
       " 'tnhe',\n",
       " 'whant',\n",
       " 'his',\n",
       " 'type',\n",
       " 'compromise',\n",
       " 'hthe',\n",
       " 'called',\n",
       " 'close',\n",
       " 'contact',\n",
       " 'irruption',\n",
       " 'chinese',\n",
       " 'around',\n",
       " 'lab',\n",
       " 'wehat',\n",
       " 'wild',\n",
       " 'hwat',\n",
       " 'others',\n",
       " 'last',\n",
       " 'declare',\n",
       " 'grippe',\n",
       " 'freezer',\n",
       " 'extent',\n",
       " 'great',\n",
       " 'whah',\n",
       " 'aesculapian',\n",
       " 'stroke',\n",
       " 'pets',\n",
       " 'groceries',\n",
       " 'whhat',\n",
       " 'bye',\n",
       " 'contacts',\n",
       " 'fda',\n",
       " 'changed',\n",
       " \"'ll\",\n",
       " 'keep',\n",
       " 'factor',\n",
       " 'viruses',\n",
       " 'role',\n",
       " 'u.',\n",
       " 'thay',\n",
       " 'wuhan',\n",
       " 'name',\n",
       " 'thither',\n",
       " 'b',\n",
       " 'whit',\n",
       " 'ever',\n",
       " 's.',\n",
       " 'just',\n",
       " 'blame',\n",
       " 'hold',\n",
       " 'trial',\n",
       " 'donated',\n",
       " 'hcq',\n",
       " 'hospital',\n",
       " 'antibiotics',\n",
       " 'election',\n",
       " 'ventilators',\n",
       " 'humans',\n",
       " 'ways',\n",
       " 'oregon',\n",
       " 'bats',\n",
       " 'underlying',\n",
       " 'masks',\n",
       " 'gets',\n",
       " 'even',\n",
       " 'result',\n",
       " 'things',\n",
       " '2019',\n",
       " 'create',\n",
       " 'wat',\n",
       " 'dur',\n",
       " 'thi',\n",
       " 'identified',\n",
       " 'everyone',\n",
       " 'real',\n",
       " 'line',\n",
       " 'incubation',\n",
       " 'blodd',\n",
       " 'location',\n",
       " 'immunitet',\n",
       " 'difference',\n",
       " 'again',\n",
       " 'compare',\n",
       " 'community',\n",
       " 'until',\n",
       " 'already',\n",
       " '?',\n",
       " 'bè',\n",
       " 'swab',\n",
       " 'ghe',\n",
       " 'serious',\n",
       " 'thd',\n",
       " 'casses',\n",
       " 'atomic',\n",
       " 'tje',\n",
       " 'da',\n",
       " 'different',\n",
       " 'industry',\n",
       " 'thar',\n",
       " \"i'ts\",\n",
       " 'jf',\n",
       " 'recovery',\n",
       " 'answer',\n",
       " 'staying',\n",
       " 'wil',\n",
       " 'deadly',\n",
       " '18',\n",
       " 'tehere',\n",
       " 'don',\n",
       " 'done',\n",
       " 'yo',\n",
       " 'steates',\n",
       " 'rthe',\n",
       " 'recommended',\n",
       " 'swabs',\n",
       " 'tie',\n",
       " 'severity',\n",
       " 'area',\n",
       " 'having',\n",
       " 'social',\n",
       " 'injecting',\n",
       " 'thes',\n",
       " 'behind',\n",
       " 'stocks',\n",
       " 'tha',\n",
       " 'withe',\n",
       " 'dows',\n",
       " 'airborne',\n",
       " 'tehe',\n",
       " 'job',\n",
       " 'thet',\n",
       " 'law',\n",
       " 'americans',\n",
       " 'house',\n",
       " 'less',\n",
       " 'temperature',\n",
       " 'tastes',\n",
       " 'man',\n",
       " 'nation',\n",
       " 'tasted',\n",
       " 'referable',\n",
       " 'top',\n",
       " 'donate',\n",
       " 'ia',\n",
       " 'money',\n",
       " 'covs',\n",
       " 'wash',\n",
       " 'extend',\n",
       " 'spead',\n",
       " 'confirmed',\n",
       " 'deal',\n",
       " 'condition',\n",
       " 'former',\n",
       " 'thhe',\n",
       " 'might',\n",
       " 'become',\n",
       " 'dos',\n",
       " 'tyhe',\n",
       " 'dute',\n",
       " 'rare',\n",
       " 'thre',\n",
       " 'tne',\n",
       " 'second',\n",
       " 'fron',\n",
       " 'system',\n",
       " 'whon',\n",
       " 'convalescent',\n",
       " 'receovered',\n",
       " 'soon',\n",
       " 'es',\n",
       " 'deads',\n",
       " 'imputable',\n",
       " 'hospitals',\n",
       " 'theater',\n",
       " 'term',\n",
       " 'political',\n",
       " 'exposed',\n",
       " 'vollition',\n",
       " 'tge',\n",
       " 'base',\n",
       " 'school',\n",
       " 'hoi',\n",
       " 'polloi',\n",
       " 'ill',\n",
       " 'affect',\n",
       " 'dog',\n",
       " 'disinfection',\n",
       " 'od',\n",
       " 'another',\n",
       " 'contagion',\n",
       " 'perform',\n",
       " 'respect',\n",
       " 'goes',\n",
       " 'ht',\n",
       " 'yet',\n",
       " 'learn',\n",
       " 'those',\n",
       " 'predicted',\n",
       " 'serve',\n",
       " 'kills',\n",
       " 'wiil',\n",
       " 'desease',\n",
       " 'big',\n",
       " 'receive',\n",
       " 'ol',\n",
       " 'came',\n",
       " 'ro',\n",
       " 'compared',\n",
       " 'structure',\n",
       " 'but',\n",
       " 'response',\n",
       " 'quickly',\n",
       " 'theatre',\n",
       " 'u',\n",
       " 'rhe',\n",
       " 'recession',\n",
       " 'cq',\n",
       " 'br',\n",
       " '’s',\n",
       " 'ddo',\n",
       " 'gone',\n",
       " 'fur',\n",
       " 'handle',\n",
       " 'year',\n",
       " 'iz',\n",
       " 'special',\n",
       " 'heat',\n",
       " 'wave',\n",
       " 'risc',\n",
       " 'facemask',\n",
       " 'tte',\n",
       " 'theath',\n",
       " 'tood',\n",
       " 'thye',\n",
       " 'wold',\n",
       " 'inject',\n",
       " 'protective',\n",
       " 'ths',\n",
       " 'period',\n",
       " '5the',\n",
       " 'procedures',\n",
       " 'tem',\n",
       " 'along',\n",
       " 'fatality',\n",
       " 'tj',\n",
       " 'ys',\n",
       " 'wuith',\n",
       " 'under',\n",
       " 'kind',\n",
       " 'coiffure',\n",
       " 'using',\n",
       " 'free',\n",
       " 'dow',\n",
       " 'curve',\n",
       " 'cleaning',\n",
       " 'shi',\n",
       " 'trumps',\n",
       " 'affecting',\n",
       " 'wellness',\n",
       " 'four',\n",
       " 'hte',\n",
       " 'anything',\n",
       " 'teste',\n",
       " 'causing',\n",
       " 'phosphate',\n",
       " 'plaquenil',\n",
       " 'play',\n",
       " 'practice',\n",
       " \"is't\",\n",
       " 'pass',\n",
       " 'thetwo',\n",
       " 'thirty',\n",
       " 'relationship',\n",
       " 'disiase',\n",
       " 'tips',\n",
       " 'control',\n",
       " 'effects',\n",
       " 'yto',\n",
       " '0f',\n",
       " 'n',\n",
       " 'dh',\n",
       " 'af',\n",
       " 'lf',\n",
       " 'schools',\n",
       " 'got',\n",
       " 'vape',\n",
       " 'air',\n",
       " 'che',\n",
       " 'whar',\n",
       " 'disinfecting',\n",
       " 'next',\n",
       " 'spanish',\n",
       " 'numbers',\n",
       " 'set',\n",
       " 'protesting',\n",
       " 'beaver',\n",
       " 'durning',\n",
       " 'reason',\n",
       " 'tio',\n",
       " 'key',\n",
       " 'wearing',\n",
       " 'inuted',\n",
       " 'grethear',\n",
       " 'unwashed',\n",
       " 'ourselves',\n",
       " 'plazma',\n",
       " 'summer',\n",
       " 'purpose',\n",
       " 'main',\n",
       " 'catching',\n",
       " 'important',\n",
       " 'toilet',\n",
       " 'fast',\n",
       " 'fro',\n",
       " 'charge',\n",
       " 'phone',\n",
       " 'waill',\n",
       " 'dth',\n",
       " 'current',\n",
       " 'she',\n",
       " 'red',\n",
       " 'ingest',\n",
       " 'vaccines',\n",
       " 'treating',\n",
       " 'eat',\n",
       " 'ta',\n",
       " 'positive',\n",
       " 'isd',\n",
       " 'masquerade',\n",
       " 'chinas',\n",
       " 'em',\n",
       " 'break',\n",
       " 'taken',\n",
       " 'll',\n",
       " 'infirmary',\n",
       " 'days',\n",
       " 'distinguish',\n",
       " 'buying',\n",
       " 'black',\n",
       " 'yourself',\n",
       " '20',\n",
       " 'origin',\n",
       " 'member',\n",
       " 'foi',\n",
       " 'tthe',\n",
       " 'coif',\n",
       " 'sulfate',\n",
       " 'tell',\n",
       " 'scientists',\n",
       " 'ofo',\n",
       " 'store',\n",
       " 'personal',\n",
       " 'pine',\n",
       " 'prefent',\n",
       " 'hands',\n",
       " 'whe',\n",
       " 'susceptible',\n",
       " 'iof',\n",
       " 'companies',\n",
       " '&',\n",
       " 'spreads',\n",
       " 'shortages',\n",
       " 've',\n",
       " 'seasonal',\n",
       " 'surgery',\n",
       " 'concern',\n",
       " 'carry',\n",
       " 'trhe',\n",
       " 'pneumonia',\n",
       " 'economical',\n",
       " 'teh',\n",
       " 'oh',\n",
       " 'individual',\n",
       " 'dthe',\n",
       " 'overseas',\n",
       " 'feel',\n",
       " 'created',\n",
       " 'young',\n",
       " 'fail',\n",
       " 'afected',\n",
       " '1s',\n",
       " 'happened',\n",
       " 'mass',\n",
       " 'cai',\n",
       " 't0',\n",
       " 'ty',\n",
       " 'pandemics',\n",
       " 'text',\n",
       " 'diagnose',\n",
       " 'sequence',\n",
       " 'si',\n",
       " 'conditions',\n",
       " 'transmit',\n",
       " 'see',\n",
       " 'engineered',\n",
       " 'cas',\n",
       " 'ato',\n",
       " 'ton',\n",
       " 'rto',\n",
       " 'descriptive',\n",
       " 'makes',\n",
       " 'adults',\n",
       " 'contain',\n",
       " 'foa',\n",
       " 'thwe',\n",
       " 'manage',\n",
       " 'outside',\n",
       " 'thr',\n",
       " 'jobs',\n",
       " 'ascribable',\n",
       " 'probable',\n",
       " 'dependable',\n",
       " 'recorver',\n",
       " 'packages',\n",
       " 'prevend',\n",
       " 'despite',\n",
       " 'spreaded',\n",
       " '0',\n",
       " 'exercise',\n",
       " 'hit',\n",
       " 'iss',\n",
       " 'multitude',\n",
       " 'across',\n",
       " 'ct',\n",
       " 'thel',\n",
       " 'ready',\n",
       " 'look',\n",
       " 'boost',\n",
       " 'als',\n",
       " 'consider',\n",
       " 'tp',\n",
       " 'oft',\n",
       " 'ends',\n",
       " 'very',\n",
       " 'ith',\n",
       " 'hantavirus',\n",
       " 'citizenry',\n",
       " 'such',\n",
       " 'supply',\n",
       " 'sl',\n",
       " 'ís',\n",
       " 'sustain',\n",
       " 'party',\n",
       " 'paper',\n",
       " 'avoiding',\n",
       " 'reduce',\n",
       " 'damage',\n",
       " 'touch',\n",
       " 'spectrum',\n",
       " 'aof',\n",
       " 'mild',\n",
       " 'foy',\n",
       " 'vis',\n",
       " 'hare',\n",
       " 'zhe',\n",
       " 'wiill',\n",
       " 'forth',\n",
       " 'gene',\n",
       " 'ende',\n",
       " 'tm',\n",
       " 'businesses',\n",
       " 'birth',\n",
       " 'breathing',\n",
       " 'lead',\n",
       " 'fever',\n",
       " 'reliable',\n",
       " 'killed',\n",
       " 'word',\n",
       " 'cacb',\n",
       " 'ius',\n",
       " 'funeral',\n",
       " 'doe',\n",
       " 'stand',\n",
       " 'shopping',\n",
       " 'clothes',\n",
       " 'lens',\n",
       " 'dis',\n",
       " 'thee',\n",
       " 'fi',\n",
       " 'ane',\n",
       " 'try',\n",
       " 'aire',\n",
       " 'orf8',\n",
       " 'tto',\n",
       " 'old',\n",
       " 'read',\n",
       " 'cae',\n",
       " 'showing',\n",
       " 'identify',\n",
       " 'csn',\n",
       " 'peaked',\n",
       " 'course',\n",
       " 'similarity',\n",
       " 'call',\n",
       " 'nicotine',\n",
       " 'masque',\n",
       " 'package',\n",
       " 'é',\n",
       " 'thant',\n",
       " 'clinical',\n",
       " 'grocery',\n",
       " 'casue',\n",
       " 'tou',\n",
       " 'experience',\n",
       " 'ic',\n",
       " 'years',\n",
       " 'ght',\n",
       " 'orders',\n",
       " 'international',\n",
       " 'bood',\n",
       " 'critically',\n",
       " 'trto',\n",
       " 'thez',\n",
       " 'ap',\n",
       " 'approved',\n",
       " 'weaponized',\n",
       " 'near',\n",
       " 'el',\n",
       " 'available',\n",
       " 'right',\n",
       " 'treated',\n",
       " 'ventilator',\n",
       " 'ona',\n",
       " 'fou',\n",
       " 'peak',\n",
       " 'hs',\n",
       " 'skin',\n",
       " 'web',\n",
       " 'thus',\n",
       " 'preventing',\n",
       " 'spred',\n",
       " 'flue',\n",
       " 'canottle',\n",
       " 'move',\n",
       " 'appear',\n",
       " 'worldwide',\n",
       " 'whill',\n",
       " 'illnes',\n",
       " 'muslims',\n",
       " 'horn',\n",
       " 'anti',\n",
       " 'common',\n",
       " 'childs',\n",
       " 'sent',\n",
       " 'infections',\n",
       " 'für',\n",
       " 'suffice',\n",
       " 'ffor',\n",
       " 'flus',\n",
       " 'ore',\n",
       " 'host',\n",
       " 'working',\n",
       " 'injected',\n",
       " 'wi',\n",
       " 'resistance',\n",
       " 'keeps',\n",
       " 'population',\n",
       " 'cover',\n",
       " 'species',\n",
       " ...]"
      ]
     },
     "execution_count": 4,
     "metadata": {},
     "output_type": "execute_result"
    }
   ],
   "source": [
    "df_lm_vocab = pd.read_csv('assets/lm_vocab.csv', header=None)\n",
    "df_lm_vocab.columns = ['word']\n",
    "lm_vocab = df_lm_vocab['word'].tolist()\n",
    "lm_vocab"
   ]
  },
  {
   "cell_type": "code",
   "execution_count": 33,
   "id": "c0e7fd33",
   "metadata": {},
   "outputs": [
    {
     "data": {
      "text/plain": [
       "((208, 2), (4544, 1), 4544)"
      ]
     },
     "execution_count": 33,
     "metadata": {},
     "output_type": "execute_result"
    }
   ],
   "source": [
    "df_labels.shape, df_lm_vocab.shape, len(lm_vocab)"
   ]
  },
  {
   "cell_type": "code",
   "execution_count": 44,
   "id": "a521bc8e",
   "metadata": {
    "scrolled": true
   },
   "outputs": [
    {
     "data": {
      "text/html": [
       "<div>\n",
       "<style scoped>\n",
       "    .dataframe tbody tr th:only-of-type {\n",
       "        vertical-align: middle;\n",
       "    }\n",
       "\n",
       "    .dataframe tbody tr th {\n",
       "        vertical-align: top;\n",
       "    }\n",
       "\n",
       "    .dataframe thead th {\n",
       "        text-align: right;\n",
       "    }\n",
       "</style>\n",
       "<table border=\"1\" class=\"dataframe\">\n",
       "  <thead>\n",
       "    <tr style=\"text-align: right;\">\n",
       "      <th></th>\n",
       "      <th>label</th>\n",
       "      <th>cid</th>\n",
       "    </tr>\n",
       "  </thead>\n",
       "  <tbody>\n",
       "    <tr>\n",
       "      <th>0</th>\n",
       "      <td>Comparison - Black Death</td>\n",
       "      <td>0</td>\n",
       "    </tr>\n",
       "    <tr>\n",
       "      <th>1</th>\n",
       "      <td>Comparison - COVID and HIV</td>\n",
       "      <td>1</td>\n",
       "    </tr>\n",
       "    <tr>\n",
       "      <th>2</th>\n",
       "      <td>Comparison - COVID versus Flu Diagnosis</td>\n",
       "      <td>2</td>\n",
       "    </tr>\n",
       "  </tbody>\n",
       "</table>\n",
       "</div>"
      ],
      "text/plain": [
       "                                     label  cid\n",
       "0                 Comparison - Black Death    0\n",
       "1               Comparison - COVID and HIV    1\n",
       "2  Comparison - COVID versus Flu Diagnosis    2"
      ]
     },
     "execution_count": 44,
     "metadata": {},
     "output_type": "execute_result"
    }
   ],
   "source": [
    "df_labels[:3]"
   ]
  },
  {
   "cell_type": "code",
   "execution_count": 56,
   "id": "8de54acf",
   "metadata": {},
   "outputs": [
    {
     "data": {
      "text/html": [
       "<div>\n",
       "<style scoped>\n",
       "    .dataframe tbody tr th:only-of-type {\n",
       "        vertical-align: middle;\n",
       "    }\n",
       "\n",
       "    .dataframe tbody tr th {\n",
       "        vertical-align: top;\n",
       "    }\n",
       "\n",
       "    .dataframe thead th {\n",
       "        text-align: right;\n",
       "    }\n",
       "</style>\n",
       "<table border=\"1\" class=\"dataframe\">\n",
       "  <thead>\n",
       "    <tr style=\"text-align: right;\">\n",
       "      <th></th>\n",
       "      <th>label</th>\n",
       "      <th>text</th>\n",
       "      <th>cid</th>\n",
       "    </tr>\n",
       "  </thead>\n",
       "  <tbody>\n",
       "    <tr>\n",
       "      <th>0</th>\n",
       "      <td>Speculation - Pandemic Duration</td>\n",
       "      <td>will covid end soon</td>\n",
       "      <td>149</td>\n",
       "    </tr>\n",
       "    <tr>\n",
       "      <th>1</th>\n",
       "      <td>Speculation - Pandemic Duration</td>\n",
       "      <td>will covid end</td>\n",
       "      <td>149</td>\n",
       "    </tr>\n",
       "    <tr>\n",
       "      <th>2</th>\n",
       "      <td>Speculation - Pandemic Duration</td>\n",
       "      <td>when covid will be over</td>\n",
       "      <td>149</td>\n",
       "    </tr>\n",
       "  </tbody>\n",
       "</table>\n",
       "</div>"
      ],
      "text/plain": [
       "                             label                     text  cid\n",
       "0  Speculation - Pandemic Duration      will covid end soon  149\n",
       "1  Speculation - Pandemic Duration           will covid end  149\n",
       "2  Speculation - Pandemic Duration  when covid will be over  149"
      ]
     },
     "execution_count": 56,
     "metadata": {},
     "output_type": "execute_result"
    }
   ],
   "source": [
    "df_questions[:3]"
   ]
  },
  {
   "cell_type": "code",
   "execution_count": 55,
   "id": "0307eee8",
   "metadata": {},
   "outputs": [
    {
     "data": {
      "text/plain": [
       "((208, 2), (6424, 3))"
      ]
     },
     "execution_count": 55,
     "metadata": {},
     "output_type": "execute_result"
    }
   ],
   "source": [
    "df_labels.shape, df_questions.shape"
   ]
  },
  {
   "cell_type": "code",
   "execution_count": 52,
   "id": "5102e14a",
   "metadata": {},
   "outputs": [
    {
     "data": {
      "text/plain": [
       "Series([], dtype: float64)"
      ]
     },
     "execution_count": 52,
     "metadata": {},
     "output_type": "execute_result"
    }
   ],
   "source": [
    "df_questions = pd.read_csv(ds_path)\n",
    "\n",
    "null_columns=df_questions.columns[df_questions.isnull().any()]\n",
    "df_questions[null_columns].isnull().sum()"
   ]
  },
  {
   "cell_type": "code",
   "execution_count": 57,
   "id": "f3f5fbf1",
   "metadata": {
    "scrolled": true
   },
   "outputs": [
    {
     "name": "stdout",
     "output_type": "stream",
     "text": [
      "df_q shape is (6424, 3)\n"
     ]
    },
    {
     "data": {
      "text/html": [],
      "text/plain": [
       "<IPython.core.display.HTML object>"
      ]
     },
     "metadata": {},
     "output_type": "display_data"
    },
    {
     "name": "stderr",
     "output_type": "stream",
     "text": [
      "/home/winstonfan/anaconda3/envs/fastai24/lib/python3.8/site-packages/numpy/core/_asarray.py:102: VisibleDeprecationWarning: Creating an ndarray from ragged nested sequences (which is a list-or-tuple of lists-or-tuples-or ndarrays with different lengths or shapes) is deprecated. If you meant to do this, you must specify 'dtype=object' when creating the ndarray.\n",
      "  return array(a, dtype, copy=False, order=order)\n"
     ]
    }
   ],
   "source": [
    "ds_path = 'ql_oversampled_bt.csv'\n",
    "# df_labels = pd.read_csv('labels.csv')\n",
    "\n",
    "def getTextLabels(arg):\n",
    "    df_questions = pd.read_csv(arg)\n",
    "    return df_questions[['text', 'cid']]\n",
    "\n",
    "textBlock = (TextBlock.from_df(text_cols = ['text'], vocab=lm_vocab),CategoryBlock)\n",
    "\n",
    "dls_clas = DataBlock(\n",
    "    blocks=textBlock,\n",
    "    get_x = ColReader(cols='text'),\n",
    "    get_y = ColReader(cols = \"cid\"),\n",
    "    get_items= getTextLabels,\n",
    "    splitter = TrainTestSplitter(test_size = 0.2, random_state = 21, stratify=df_questions[\"cid\"])\n",
    ").dataloaders(ds_path, bs=120)"
   ]
  },
  {
   "cell_type": "markdown",
   "id": "62dc3db6",
   "metadata": {},
   "source": [
    "For precaution, we just show at least 2 records from each dataset to check whether the dataloaders are in the right sequence"
   ]
  },
  {
   "cell_type": "code",
   "execution_count": 58,
   "id": "78da6756",
   "metadata": {
    "scrolled": true
   },
   "outputs": [
    {
     "data": {
      "text/html": [
       "<table border=\"1\" class=\"dataframe\">\n",
       "  <thead>\n",
       "    <tr style=\"text-align: right;\">\n",
       "      <th></th>\n",
       "      <th>text</th>\n",
       "      <th>category</th>\n",
       "    </tr>\n",
       "  </thead>\n",
       "  <tbody>\n",
       "    <tr>\n",
       "      <th>0</th>\n",
       "      <td>xxbos xxunk the xxunk of one donald donald xxunk un resolution differ wihch family our regime as less but fom the speedy spred of atomic xxunk pandemic xxunk</td>\n",
       "      <td>115</td>\n",
       "    </tr>\n",
       "    <tr>\n",
       "      <th>1</th>\n",
       "      <td>xxbos can i raise there xxunk not f l xxunk in a open xxunk whose xxunk xxunk to xxunk world xxunk organization unmake non lack xxunk oil xxunk</td>\n",
       "      <td>182</td>\n",
       "    </tr>\n",
       "  </tbody>\n",
       "</table>"
      ],
      "text/plain": [
       "<IPython.core.display.HTML object>"
      ]
     },
     "metadata": {},
     "output_type": "display_data"
    }
   ],
   "source": [
    "dls_clas.valid.show_batch(max_n=2)"
   ]
  },
  {
   "cell_type": "markdown",
   "id": "b0536233",
   "metadata": {},
   "source": [
    "### 2.1 Train the model for categories with less than 30 sampling data"
   ]
  },
  {
   "cell_type": "code",
   "execution_count": 59,
   "id": "9013e60f",
   "metadata": {},
   "outputs": [
    {
     "data": {
      "text/html": [
       "<table border=\"1\" class=\"dataframe\">\n",
       "  <thead>\n",
       "    <tr style=\"text-align: right;\">\n",
       "      <th></th>\n",
       "      <th>text</th>\n",
       "      <th>category</th>\n",
       "    </tr>\n",
       "  </thead>\n",
       "  <tbody>\n",
       "    <tr>\n",
       "      <th>0</th>\n",
       "      <td>xxbos can xxmaj i ’ve talk ot thwe town dead brain ih is disagree in an xxunk elbow room i distant proximity to xxunk world heathy organization xxunk not xxunk information technology legally xxunk</td>\n",
       "      <td>182</td>\n",
       "    </tr>\n",
       "    <tr>\n",
       "      <th>1</th>\n",
       "      <td>xxbos shopuld china hole xxunk xxunk xxunk of irresponsible nations zhe nonfinancial free economical people xxunk s republik of china br well by xxunk distance sa a xxunk os pst severe pandemic xxunk</td>\n",
       "      <td>115</td>\n",
       "    </tr>\n",
       "    <tr>\n",
       "      <th>2</th>\n",
       "      <td>xxbos differ there any longer hazard of a first xxunk of covid xxunk xxunk xxunk wave of xxunk influenza xxunk which xxunk xxunk wellnes even s xxrep 3 o tle last wave xxunk</td>\n",
       "      <td>151</td>\n",
       "    </tr>\n",
       "  </tbody>\n",
       "</table>"
      ],
      "text/plain": [
       "<IPython.core.display.HTML object>"
      ]
     },
     "metadata": {},
     "output_type": "display_data"
    }
   ],
   "source": [
    "# Now let's create the learner\n",
    "learn = text_classifier_learner(dls_clas, AWD_LSTM, drop_mult=0.5, \n",
    "                                metrics=accuracy).to_fp16()\n",
    "\n",
    "learn = learn.load_encoder('lm_10epoch-os-bt-encoder')\n",
    "\n",
    "dls_clas.show_batch(max_n=3)"
   ]
  },
  {
   "cell_type": "code",
   "execution_count": 60,
   "id": "5ea004fd",
   "metadata": {
    "scrolled": true
   },
   "outputs": [
    {
     "data": {
      "text/html": [],
      "text/plain": [
       "<IPython.core.display.HTML object>"
      ]
     },
     "metadata": {},
     "output_type": "display_data"
    },
    {
     "data": {
      "text/plain": [
       "SuggestedLRs(valley=tensor(0.0036))"
      ]
     },
     "execution_count": 60,
     "metadata": {},
     "output_type": "execute_result"
    },
    {
     "data": {
      "image/png": "[encoded data removed]",
      "text/plain": [
       "<Figure size 432x288 with 1 Axes>"
      ]
     },
     "metadata": {
      "needs_background": "light"
     },
     "output_type": "display_data"
    }
   ],
   "source": [
    "learn.lr_find()"
   ]
  },
  {
   "cell_type": "code",
   "execution_count": 61,
   "id": "ed31d8b1",
   "metadata": {
    "scrolled": true
   },
   "outputs": [
    {
     "data": {
      "text/html": [
       "<table border=\"1\" class=\"dataframe\">\n",
       "  <thead>\n",
       "    <tr style=\"text-align: left;\">\n",
       "      <th>epoch</th>\n",
       "      <th>train_loss</th>\n",
       "      <th>valid_loss</th>\n",
       "      <th>accuracy</th>\n",
       "      <th>time</th>\n",
       "    </tr>\n",
       "  </thead>\n",
       "  <tbody>\n",
       "    <tr>\n",
       "      <td>0</td>\n",
       "      <td>5.306332</td>\n",
       "      <td>5.151589</td>\n",
       "      <td>0.031907</td>\n",
       "      <td>00:01</td>\n",
       "    </tr>\n",
       "  </tbody>\n",
       "</table>"
      ],
      "text/plain": [
       "<IPython.core.display.HTML object>"
      ]
     },
     "metadata": {},
     "output_type": "display_data"
    },
    {
     "data": {
      "image/png": "[encoded data removed]",
      "text/plain": [
       "<Figure size 432x288 with 1 Axes>"
      ]
     },
     "metadata": {},
     "output_type": "display_data"
    }
   ],
   "source": [
    "learn.fit_one_cycle(1, 3.6e-3,cbs=[ShowGraphCallback()])"
   ]
  },
  {
   "cell_type": "code",
   "execution_count": 62,
   "id": "56a56abe",
   "metadata": {
    "scrolled": true
   },
   "outputs": [
    {
     "data": {
      "text/html": [],
      "text/plain": [
       "<IPython.core.display.HTML object>"
      ]
     },
     "metadata": {},
     "output_type": "display_data"
    },
    {
     "data": {
      "text/plain": [
       "SuggestedLRs(valley=tensor(0.0036))"
      ]
     },
     "execution_count": 62,
     "metadata": {},
     "output_type": "execute_result"
    },
    {
     "data": {
      "image/png": "[encoded data removed]",
      "text/plain": [
       "<Figure size 432x288 with 1 Axes>"
      ]
     },
     "metadata": {
      "needs_background": "light"
     },
     "output_type": "display_data"
    }
   ],
   "source": [
    "learn.lr_find()"
   ]
  },
  {
   "cell_type": "code",
   "execution_count": 63,
   "id": "3318b951",
   "metadata": {},
   "outputs": [
    {
     "data": {
      "text/html": [
       "<table border=\"1\" class=\"dataframe\">\n",
       "  <thead>\n",
       "    <tr style=\"text-align: left;\">\n",
       "      <th>epoch</th>\n",
       "      <th>train_loss</th>\n",
       "      <th>valid_loss</th>\n",
       "      <th>accuracy</th>\n",
       "      <th>time</th>\n",
       "    </tr>\n",
       "  </thead>\n",
       "  <tbody>\n",
       "    <tr>\n",
       "      <td>0</td>\n",
       "      <td>5.020917</td>\n",
       "      <td>4.838593</td>\n",
       "      <td>0.093385</td>\n",
       "      <td>00:01</td>\n",
       "    </tr>\n",
       "  </tbody>\n",
       "</table>"
      ],
      "text/plain": [
       "<IPython.core.display.HTML object>"
      ]
     },
     "metadata": {},
     "output_type": "display_data"
    },
    {
     "data": {
      "image/png": "[encoded data removed]",
      "text/plain": [
       "<Figure size 432x288 with 1 Axes>"
      ]
     },
     "metadata": {},
     "output_type": "display_data"
    }
   ],
   "source": [
    "learn.freeze_to(-2)\n",
    "learn.fit_one_cycle(1, 3.6e-3, cbs=[ShowGraphCallback()])"
   ]
  },
  {
   "cell_type": "code",
   "execution_count": 64,
   "id": "32e75f4c",
   "metadata": {},
   "outputs": [
    {
     "data": {
      "text/html": [],
      "text/plain": [
       "<IPython.core.display.HTML object>"
      ]
     },
     "metadata": {},
     "output_type": "display_data"
    },
    {
     "data": {
      "text/plain": [
       "SuggestedLRs(valley=tensor(0.0036))"
      ]
     },
     "execution_count": 64,
     "metadata": {},
     "output_type": "execute_result"
    },
    {
     "data": {
      "image/png": "[encoded data removed]",
      "text/plain": [
       "<Figure size 432x288 with 1 Axes>"
      ]
     },
     "metadata": {
      "needs_background": "light"
     },
     "output_type": "display_data"
    }
   ],
   "source": [
    "learn.lr_find()"
   ]
  },
  {
   "cell_type": "code",
   "execution_count": 65,
   "id": "16c343fb",
   "metadata": {},
   "outputs": [
    {
     "data": {
      "text/html": [
       "<table border=\"1\" class=\"dataframe\">\n",
       "  <thead>\n",
       "    <tr style=\"text-align: left;\">\n",
       "      <th>epoch</th>\n",
       "      <th>train_loss</th>\n",
       "      <th>valid_loss</th>\n",
       "      <th>accuracy</th>\n",
       "      <th>time</th>\n",
       "    </tr>\n",
       "  </thead>\n",
       "  <tbody>\n",
       "    <tr>\n",
       "      <td>0</td>\n",
       "      <td>4.724994</td>\n",
       "      <td>4.525855</td>\n",
       "      <td>0.133074</td>\n",
       "      <td>00:01</td>\n",
       "    </tr>\n",
       "  </tbody>\n",
       "</table>"
      ],
      "text/plain": [
       "<IPython.core.display.HTML object>"
      ]
     },
     "metadata": {},
     "output_type": "display_data"
    },
    {
     "data": {
      "image/png": "[encoded data removed]",
      "text/plain": [
       "<Figure size 432x288 with 1 Axes>"
      ]
     },
     "metadata": {},
     "output_type": "display_data"
    }
   ],
   "source": [
    "learn.freeze_to(-3)\n",
    "learn.fit_one_cycle(1, 3.6e-3,cbs=[ShowGraphCallback()])"
   ]
  },
  {
   "cell_type": "code",
   "execution_count": 66,
   "id": "2e958268",
   "metadata": {},
   "outputs": [
    {
     "data": {
      "text/html": [],
      "text/plain": [
       "<IPython.core.display.HTML object>"
      ]
     },
     "metadata": {},
     "output_type": "display_data"
    },
    {
     "data": {
      "text/plain": [
       "SuggestedLRs(valley=tensor(0.0010))"
      ]
     },
     "execution_count": 66,
     "metadata": {},
     "output_type": "execute_result"
    },
    {
     "data": {
      "image/png": "[encoded data removed]",
      "text/plain": [
       "<Figure size 432x288 with 1 Axes>"
      ]
     },
     "metadata": {
      "needs_background": "light"
     },
     "output_type": "display_data"
    }
   ],
   "source": [
    "learn.lr_find()"
   ]
  },
  {
   "cell_type": "code",
   "execution_count": 67,
   "id": "e752d261",
   "metadata": {},
   "outputs": [
    {
     "data": {
      "text/html": [
       "<table border=\"1\" class=\"dataframe\">\n",
       "  <thead>\n",
       "    <tr style=\"text-align: left;\">\n",
       "      <th>epoch</th>\n",
       "      <th>train_loss</th>\n",
       "      <th>valid_loss</th>\n",
       "      <th>accuracy</th>\n",
       "      <th>time</th>\n",
       "    </tr>\n",
       "  </thead>\n",
       "  <tbody>\n",
       "    <tr>\n",
       "      <td>0</td>\n",
       "      <td>4.405231</td>\n",
       "      <td>4.488544</td>\n",
       "      <td>0.161868</td>\n",
       "      <td>00:01</td>\n",
       "    </tr>\n",
       "    <tr>\n",
       "      <td>1</td>\n",
       "      <td>4.322658</td>\n",
       "      <td>4.279111</td>\n",
       "      <td>0.194553</td>\n",
       "      <td>00:01</td>\n",
       "    </tr>\n",
       "    <tr>\n",
       "      <td>2</td>\n",
       "      <td>4.147004</td>\n",
       "      <td>4.042177</td>\n",
       "      <td>0.232685</td>\n",
       "      <td>00:01</td>\n",
       "    </tr>\n",
       "    <tr>\n",
       "      <td>3</td>\n",
       "      <td>3.942216</td>\n",
       "      <td>3.825095</td>\n",
       "      <td>0.271595</td>\n",
       "      <td>00:01</td>\n",
       "    </tr>\n",
       "    <tr>\n",
       "      <td>4</td>\n",
       "      <td>3.711567</td>\n",
       "      <td>3.647549</td>\n",
       "      <td>0.301946</td>\n",
       "      <td>00:01</td>\n",
       "    </tr>\n",
       "    <tr>\n",
       "      <td>5</td>\n",
       "      <td>3.480996</td>\n",
       "      <td>3.542534</td>\n",
       "      <td>0.333852</td>\n",
       "      <td>00:01</td>\n",
       "    </tr>\n",
       "    <tr>\n",
       "      <td>6</td>\n",
       "      <td>3.295562</td>\n",
       "      <td>3.435197</td>\n",
       "      <td>0.341634</td>\n",
       "      <td>00:01</td>\n",
       "    </tr>\n",
       "    <tr>\n",
       "      <td>7</td>\n",
       "      <td>3.137581</td>\n",
       "      <td>3.383941</td>\n",
       "      <td>0.351751</td>\n",
       "      <td>00:01</td>\n",
       "    </tr>\n",
       "    <tr>\n",
       "      <td>8</td>\n",
       "      <td>3.030714</td>\n",
       "      <td>3.360006</td>\n",
       "      <td>0.361089</td>\n",
       "      <td>00:01</td>\n",
       "    </tr>\n",
       "    <tr>\n",
       "      <td>9</td>\n",
       "      <td>2.966390</td>\n",
       "      <td>3.374930</td>\n",
       "      <td>0.361868</td>\n",
       "      <td>00:01</td>\n",
       "    </tr>\n",
       "  </tbody>\n",
       "</table>"
      ],
      "text/plain": [
       "<IPython.core.display.HTML object>"
      ]
     },
     "metadata": {},
     "output_type": "display_data"
    },
    {
     "data": {
      "image/png": "[encoded data removed]",
      "text/plain": [
       "<Figure size 432x288 with 1 Axes>"
      ]
     },
     "metadata": {},
     "output_type": "display_data"
    }
   ],
   "source": [
    "learn.unfreeze()\n",
    "learn.fit_one_cycle(10, slice(1e-3/(2.6**4), 1e-3), cbs=[ShowGraphCallback()])"
   ]
  },
  {
   "cell_type": "code",
   "execution_count": 68,
   "id": "53ae886f",
   "metadata": {},
   "outputs": [
    {
     "data": {
      "text/html": [],
      "text/plain": [
       "<IPython.core.display.HTML object>"
      ]
     },
     "metadata": {},
     "output_type": "display_data"
    },
    {
     "data": {
      "text/plain": [
       "SuggestedLRs(valley=tensor(4.3652e-05))"
      ]
     },
     "execution_count": 68,
     "metadata": {},
     "output_type": "execute_result"
    },
    {
     "data": {
      "image/png": "[encoded data removed]",
      "text/plain": [
       "<Figure size 432x288 with 1 Axes>"
      ]
     },
     "metadata": {
      "needs_background": "light"
     },
     "output_type": "display_data"
    }
   ],
   "source": [
    "learn.lr_find()"
   ]
  },
  {
   "cell_type": "code",
   "execution_count": 69,
   "id": "eafa99f4",
   "metadata": {},
   "outputs": [],
   "source": [
    "learn.export('models/10epoch.pkl')"
   ]
  },
  {
   "cell_type": "code",
   "execution_count": 19,
   "id": "a1f3a38c",
   "metadata": {},
   "outputs": [
    {
     "data": {
      "text/html": [
       "<table border=\"1\" class=\"dataframe\">\n",
       "  <thead>\n",
       "    <tr style=\"text-align: left;\">\n",
       "      <th>epoch</th>\n",
       "      <th>train_loss</th>\n",
       "      <th>valid_loss</th>\n",
       "      <th>accuracy</th>\n",
       "      <th>time</th>\n",
       "    </tr>\n",
       "  </thead>\n",
       "  <tbody>\n",
       "    <tr>\n",
       "      <td>0</td>\n",
       "      <td>0.529656</td>\n",
       "      <td>0.578794</td>\n",
       "      <td>0.966480</td>\n",
       "      <td>00:01</td>\n",
       "    </tr>\n",
       "    <tr>\n",
       "      <td>1</td>\n",
       "      <td>0.502250</td>\n",
       "      <td>0.471571</td>\n",
       "      <td>0.969274</td>\n",
       "      <td>00:01</td>\n",
       "    </tr>\n",
       "    <tr>\n",
       "      <td>2</td>\n",
       "      <td>0.461235</td>\n",
       "      <td>0.372591</td>\n",
       "      <td>0.969274</td>\n",
       "      <td>00:01</td>\n",
       "    </tr>\n",
       "    <tr>\n",
       "      <td>3</td>\n",
       "      <td>0.410270</td>\n",
       "      <td>0.323309</td>\n",
       "      <td>0.974860</td>\n",
       "      <td>00:01</td>\n",
       "    </tr>\n",
       "    <tr>\n",
       "      <td>4</td>\n",
       "      <td>0.361484</td>\n",
       "      <td>0.293114</td>\n",
       "      <td>0.969274</td>\n",
       "      <td>00:01</td>\n",
       "    </tr>\n",
       "    <tr>\n",
       "      <td>5</td>\n",
       "      <td>0.318966</td>\n",
       "      <td>0.275410</td>\n",
       "      <td>0.966480</td>\n",
       "      <td>00:01</td>\n",
       "    </tr>\n",
       "    <tr>\n",
       "      <td>6</td>\n",
       "      <td>0.284176</td>\n",
       "      <td>0.263049</td>\n",
       "      <td>0.972067</td>\n",
       "      <td>00:01</td>\n",
       "    </tr>\n",
       "    <tr>\n",
       "      <td>7</td>\n",
       "      <td>0.251409</td>\n",
       "      <td>0.257824</td>\n",
       "      <td>0.972067</td>\n",
       "      <td>00:01</td>\n",
       "    </tr>\n",
       "    <tr>\n",
       "      <td>8</td>\n",
       "      <td>0.226594</td>\n",
       "      <td>0.256947</td>\n",
       "      <td>0.974860</td>\n",
       "      <td>00:01</td>\n",
       "    </tr>\n",
       "    <tr>\n",
       "      <td>9</td>\n",
       "      <td>0.207944</td>\n",
       "      <td>0.257716</td>\n",
       "      <td>0.972067</td>\n",
       "      <td>00:01</td>\n",
       "    </tr>\n",
       "  </tbody>\n",
       "</table>"
      ],
      "text/plain": [
       "<IPython.core.display.HTML object>"
      ]
     },
     "metadata": {},
     "output_type": "display_data"
    },
    {
     "data": {
      "image/png": "[encoded data removed]",
      "text/plain": [
       "<Figure size 432x288 with 1 Axes>"
      ]
     },
     "metadata": {},
     "output_type": "display_data"
    }
   ],
   "source": [
    "learn.unfreeze()\n",
    "learn.fit_one_cycle(10, slice(1.7e-3/(2.6**4),1.7e-3),cbs=[ShowGraphCallback()])"
   ]
  },
  {
   "cell_type": "code",
   "execution_count": 20,
   "id": "aeaa4aac",
   "metadata": {},
   "outputs": [
    {
     "data": {
      "text/html": [],
      "text/plain": [
       "<IPython.core.display.HTML object>"
      ]
     },
     "metadata": {},
     "output_type": "display_data"
    },
    {
     "data": {
      "text/plain": [
       "SuggestedLRs(valley=tensor(0.0010))"
      ]
     },
     "execution_count": 20,
     "metadata": {},
     "output_type": "execute_result"
    },
    {
     "data": {
      "image/png": "[encoded data removed]",
      "text/plain": [
       "<Figure size 432x288 with 1 Axes>"
      ]
     },
     "metadata": {
      "needs_background": "light"
     },
     "output_type": "display_data"
    }
   ],
   "source": [
    "learn.lr_find()"
   ]
  },
  {
   "cell_type": "markdown",
   "id": "351645ee",
   "metadata": {},
   "source": [
    "The LR finding has lost its form, so stop here.\n",
    "Now let's try this trained model"
   ]
  },
  {
   "cell_type": "code",
   "execution_count": 70,
   "id": "dadc6f5c",
   "metadata": {},
   "outputs": [
    {
     "data": {
      "text/html": [],
      "text/plain": [
       "<IPython.core.display.HTML object>"
      ]
     },
     "metadata": {},
     "output_type": "display_data"
    },
    {
     "data": {
      "text/plain": [
       "('116',\n",
       " tensor(116),\n",
       " tensor([4.9280e-03, 8.9015e-04, 4.1539e-03, 9.5750e-04, 4.5311e-03, 5.8685e-04,\n",
       "         6.9980e-04, 1.0494e-02, 1.6160e-03, 2.7166e-02, 5.5102e-04, 6.4642e-04,\n",
       "         3.1818e-03, 2.3963e-05, 4.2269e-04, 4.2084e-04, 1.5919e-04, 8.4960e-04,\n",
       "         6.6726e-04, 4.3846e-04, 9.0926e-04, 1.6001e-02, 2.0087e-03, 7.3249e-04,\n",
       "         4.4002e-03, 1.2433e-03, 2.6589e-02, 4.6749e-03, 1.3266e-02, 4.7764e-03,\n",
       "         8.5124e-05, 1.2365e-02, 4.8842e-04, 3.1015e-04, 4.8747e-04, 1.3082e-04,\n",
       "         2.6433e-02, 6.4905e-03, 1.4799e-02, 1.7805e-03, 4.2482e-03, 1.4154e-03,\n",
       "         6.4274e-03, 5.0245e-04, 2.2303e-02, 9.5923e-03, 4.2899e-03, 3.7162e-03,\n",
       "         3.2036e-03, 2.9861e-03, 4.2559e-04, 1.7589e-03, 5.4834e-04, 1.3968e-03,\n",
       "         2.8647e-03, 1.0203e-03, 1.8514e-03, 2.1435e-03, 5.6006e-03, 3.1289e-04,\n",
       "         1.9727e-03, 2.2029e-03, 8.2759e-04, 3.7864e-02, 1.0228e-04, 1.9164e-04,\n",
       "         2.2691e-04, 6.6792e-04, 5.6768e-04, 1.2720e-03, 1.3728e-03, 1.5205e-04,\n",
       "         1.8959e-04, 1.0495e-03, 3.1906e-04, 9.7977e-05, 7.9978e-04, 1.3366e-04,\n",
       "         5.0713e-04, 2.9595e-04, 2.8268e-04, 8.0146e-03, 3.7090e-03, 2.7833e-03,\n",
       "         9.6366e-04, 3.3345e-03, 2.3097e-03, 6.2561e-04, 2.2717e-03, 2.7425e-04,\n",
       "         2.5588e-04, 1.7067e-02, 6.1923e-04, 3.4770e-04, 3.7601e-03, 2.1540e-03,\n",
       "         1.8505e-03, 2.1365e-02, 2.1547e-04, 7.0042e-03, 1.8629e-04, 1.0366e-03,\n",
       "         2.5133e-03, 4.1579e-03, 5.3381e-04, 7.7442e-04, 4.0235e-04, 7.0295e-05,\n",
       "         3.7381e-03, 1.0638e-02, 7.7541e-02, 2.9769e-04, 1.2650e-03, 4.2607e-03,\n",
       "         4.3356e-04, 1.3288e-04, 2.0670e-01, 3.9987e-03, 1.5116e-04, 1.0399e-03,\n",
       "         4.4276e-04, 2.1296e-04, 1.1877e-03, 6.4129e-05, 7.2874e-04, 5.5049e-04,\n",
       "         5.8075e-02, 6.5139e-05, 1.0806e-02, 2.6339e-03, 2.8938e-04, 2.7667e-04,\n",
       "         2.2303e-02, 2.3366e-04, 9.7785e-05, 1.1989e-03, 1.2173e-02, 2.2144e-04,\n",
       "         1.4331e-03, 1.8769e-03, 8.9823e-04, 1.0112e-02, 1.1981e-04, 7.9900e-04,\n",
       "         6.3268e-04, 1.4286e-03, 6.6249e-03, 2.7888e-03, 2.2951e-03, 1.2904e-03,\n",
       "         1.4456e-02, 4.5890e-03, 4.3617e-03, 1.5203e-03, 4.5637e-04, 4.3910e-04,\n",
       "         2.6607e-04, 4.2690e-03, 7.0736e-04, 1.4219e-03, 3.8155e-03, 1.1687e-03,\n",
       "         4.5592e-04, 1.1225e-03, 5.0763e-04, 3.8978e-04, 1.5255e-03, 2.7318e-04,\n",
       "         5.9910e-03, 4.3040e-04, 7.5925e-04, 6.1652e-04, 3.6296e-04, 4.5704e-04,\n",
       "         1.2013e-03, 5.2374e-04, 3.9947e-03, 9.4930e-04, 1.0704e-03, 9.4805e-03,\n",
       "         2.4704e-04, 5.0449e-03, 2.8396e-03, 7.0995e-04, 9.0287e-03, 1.4176e-02,\n",
       "         1.8015e-03, 5.6777e-03, 1.8197e-04, 1.4457e-03, 5.1941e-04, 1.6128e-03,\n",
       "         1.9314e-04, 8.7339e-03, 4.3314e-04, 2.1900e-03, 3.0834e-04, 3.0804e-04,\n",
       "         1.1388e-04, 1.7280e-04, 3.3837e-03, 4.2642e-04, 1.8269e-04, 4.5883e-04,\n",
       "         1.0756e-03, 1.2776e-03, 1.0740e-04, 5.0336e-05]))"
      ]
     },
     "execution_count": 70,
     "metadata": {},
     "output_type": "execute_result"
    }
   ],
   "source": [
    "learn.predict('did the covid pandemic make you realize anything about yourself that you didnt already know')"
   ]
  },
  {
   "cell_type": "code",
   "execution_count": 71,
   "id": "c92f3fa6",
   "metadata": {},
   "outputs": [
    {
     "data": {
      "text/html": [],
      "text/plain": [
       "<IPython.core.display.HTML object>"
      ]
     },
     "metadata": {},
     "output_type": "display_data"
    },
    {
     "data": {
      "text/plain": [
       "('177',\n",
       " tensor(177),\n",
       " tensor([0.0006, 0.0030, 0.0076, 0.0032, 0.0036, 0.0045, 0.0042, 0.0034, 0.0016,\n",
       "         0.0033, 0.0012, 0.0015, 0.0023, 0.0019, 0.0008, 0.0009, 0.0005, 0.0017,\n",
       "         0.0009, 0.0014, 0.0007, 0.0120, 0.0037, 0.0031, 0.0017, 0.0020, 0.0029,\n",
       "         0.0035, 0.0053, 0.0066, 0.0036, 0.0125, 0.0026, 0.0012, 0.0013, 0.0036,\n",
       "         0.0024, 0.0027, 0.0056, 0.0002, 0.0090, 0.0112, 0.0079, 0.0048, 0.0094,\n",
       "         0.0021, 0.0009, 0.0016, 0.0013, 0.0009, 0.0003, 0.0044, 0.0017, 0.0040,\n",
       "         0.0031, 0.0019, 0.0010, 0.0014, 0.0023, 0.0032, 0.0007, 0.0031, 0.0031,\n",
       "         0.0023, 0.0055, 0.0023, 0.0014, 0.0094, 0.0051, 0.0011, 0.0028, 0.0008,\n",
       "         0.0065, 0.0155, 0.0004, 0.0021, 0.0024, 0.0017, 0.0050, 0.0040, 0.0017,\n",
       "         0.0104, 0.0118, 0.0017, 0.0032, 0.0179, 0.0040, 0.0029, 0.0021, 0.0006,\n",
       "         0.0016, 0.0013, 0.0020, 0.0004, 0.0028, 0.0007, 0.0007, 0.0058, 0.0015,\n",
       "         0.0007, 0.0003, 0.0007, 0.0050, 0.0023, 0.0003, 0.0012, 0.0039, 0.0005,\n",
       "         0.0063, 0.0040, 0.0021, 0.0002, 0.0006, 0.0011, 0.0027, 0.0005, 0.0017,\n",
       "         0.0015, 0.0004, 0.0009, 0.0013, 0.0005, 0.0051, 0.0042, 0.0025, 0.0005,\n",
       "         0.0005, 0.0412, 0.0014, 0.0053, 0.0022, 0.0045, 0.0016, 0.0010, 0.0011,\n",
       "         0.0054, 0.0027, 0.0012, 0.0015, 0.0008, 0.0030, 0.0032, 0.0020, 0.0007,\n",
       "         0.0036, 0.0011, 0.0012, 0.0026, 0.0015, 0.0019, 0.0016, 0.0011, 0.0010,\n",
       "         0.0014, 0.0018, 0.0016, 0.0055, 0.0093, 0.0082, 0.0137, 0.0031, 0.0068,\n",
       "         0.0195, 0.0263, 0.0050, 0.0243, 0.0020, 0.0159, 0.0013, 0.0037, 0.0004,\n",
       "         0.0084, 0.0080, 0.0053, 0.0054, 0.0075, 0.0094, 0.0598, 0.0029, 0.0089,\n",
       "         0.0029, 0.0049, 0.0024, 0.0019, 0.0034, 0.0197, 0.0107, 0.0064, 0.0252,\n",
       "         0.0010, 0.0007, 0.0026, 0.0041, 0.0010, 0.0011, 0.0009, 0.0032, 0.0134,\n",
       "         0.0025, 0.0033, 0.0067, 0.0558, 0.0085, 0.0067, 0.0065, 0.0282, 0.0105,\n",
       "         0.0086]))"
      ]
     },
     "execution_count": 71,
     "metadata": {},
     "output_type": "execute_result"
    }
   ],
   "source": [
    "learn.predict('how does being a smoker impact covid patient outcomes')"
   ]
  }
 ],
 "metadata": {
  "kernelspec": {
   "display_name": "Python 3",
   "language": "python",
   "name": "python3"
  },
  "language_info": {
   "codemirror_mode": {
    "name": "ipython",
    "version": 3
   },
   "file_extension": ".py",
   "mimetype": "text/x-python",
   "name": "python",
   "nbconvert_exporter": "python",
   "pygments_lexer": "ipython3",
   "version": "3.8.10"
  }
 },
 "nbformat": 4,
 "nbformat_minor": 5
}
